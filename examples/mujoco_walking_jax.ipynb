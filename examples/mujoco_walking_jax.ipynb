{
 "cells": [
  {
   "cell_type": "markdown",
   "metadata": {},
   "source": [
    "## Comodo Example JaxSim \n",
    "This examples, load a basic robot model (i.e. composed only of basic shapes), modifies the links of such a robot model by elongating the legs, define instances of the TSID (Task Based Inverse Dynamics) and Centroidal MPC  controller and simulate the behavior of the robot using mujoco.  "
   ]
  },
  {
   "cell_type": "code",
   "execution_count": 1,
   "metadata": {},
   "outputs": [
    {
     "name": "stderr",
     "output_type": "stream",
     "text": [
      "\u001b[34mjaxsim[1710340]\u001b[0m \u001b[1;30mINFO\u001b[0m Enabling JAX to use 64bit precision\n"
     ]
    }
   ],
   "source": [
    "# Comodo import\n",
    "from comodo.jaxsimSimulator import JaxsimSimulator\n",
    "from comodo.robotModel.robotModel import RobotModel\n",
    "from comodo.robotModel.createUrdf import createUrdf\n",
    "from comodo.centroidalMPC.centroidalMPC import CentroidalMPC\n",
    "from comodo.centroidalMPC.mpcParameterTuning import MPCParameterTuning\n",
    "from comodo.TSIDController.TSIDParameterTuning import TSIDParameterTuning\n",
    "from comodo.TSIDController.TSIDController import TSIDController\n",
    "from comodo.mujocoSimulator.mujocoVisualizer import MujocoVisualizer\n",
    "from comodo.mujocoSimulator.idyntreeVisualizer import iDynTreeVisualizer\n",
    "from comodo.mujocoSimulator.mujocoSimulator import MujocoSimulator"
   ]
  },
  {
   "cell_type": "code",
   "execution_count": 2,
   "metadata": {},
   "outputs": [],
   "source": [
    "# General  import\n",
    "import xml.etree.ElementTree as ET\n",
    "import numpy as np\n",
    "import tempfile\n",
    "import urllib.request\n",
    "\n",
    "import os"
   ]
  },
  {
   "cell_type": "code",
   "execution_count": 3,
   "metadata": {},
   "outputs": [],
   "source": [
    "# Getting stickbot urdf file and convert it to string\n",
    "urdf_robot_file = tempfile.NamedTemporaryFile(mode=\"w+\")\n",
    "url = \"https://raw.githubusercontent.com/icub-tech-iit/ergocub-gazebo-simulations/master/models/stickBot/model.urdf\"\n",
    "urllib.request.urlretrieve(url, urdf_robot_file.name)\n",
    "# Load the URDF file\n",
    "tree = ET.parse(urdf_robot_file.name)\n",
    "root = tree.getroot()\n",
    "\n",
    "# Convert the XML tree to a string\n",
    "robot_urdf_string_original = ET.tostring(root)\n",
    "\n",
    "create_urdf_instance = createUrdf(\n",
    "    original_urdf_path=urdf_robot_file.name, save_gazebo_plugin=False\n",
    ")"
   ]
  },
  {
   "cell_type": "code",
   "execution_count": 4,
   "metadata": {},
   "outputs": [],
   "source": [
    "# Define parametric links and controlled joints\n",
    "legs_link_names = [\"hip_3\", \"lower_leg\"]\n",
    "joint_name_list = [\n",
    "    \"l_hip_pitch\",  # 0\n",
    "    \"l_shoulder_pitch\",  # 1\n",
    "    \"r_hip_pitch\",  # 2\n",
    "    \"r_shoulder_pitch\",  # 3\n",
    "    \"l_hip_roll\",  # 4\n",
    "    \"l_shoulder_roll\",  # 5\n",
    "    \"r_hip_roll\",  # 6\n",
    "    \"r_shoulder_roll\",  # 7\n",
    "    \"l_hip_yaw\",  # 8\n",
    "    \"l_shoulder_yaw\",  # 9\n",
    "    \"r_hip_yaw\",  # 10\n",
    "    \"r_shoulder_yaw\",  # 11\n",
    "    \"l_knee\",  # 12\n",
    "    \"l_elbow\",  # 13\n",
    "    \"r_knee\",  # 14\n",
    "    \"r_elbow\",  # 15\n",
    "    \"l_ankle_pitch\",  # 16\n",
    "    \"r_ankle_pitch\",  # 17\n",
    "    \"l_ankle_roll\",  # 18\n",
    "    \"r_ankle_roll\",  # 19\n",
    "]"
   ]
  },
  {
   "cell_type": "code",
   "execution_count": 5,
   "metadata": {},
   "outputs": [],
   "source": [
    "# Define the robot modifications\n",
    "modifications = {}\n",
    "for item in legs_link_names:\n",
    "    left_leg_item = \"l_\" + item\n",
    "    right_leg_item = \"r_\" + item\n",
    "    modifications.update({left_leg_item: 1.2})\n",
    "    modifications.update({right_leg_item: 1.2})\n",
    "# Motors Parameters\n",
    "Im_arms = 1e-3 * np.ones(4)  # from 0-4\n",
    "Im_legs = 1e-3 * np.ones(6)  # from 5-10\n",
    "kv_arms = 0.001 * np.ones(4)  # from 11-14\n",
    "kv_legs = 0.001 * np.ones(6)  # from 20\n",
    "\n",
    "Im = np.concatenate((Im_arms, Im_arms, Im_legs, Im_legs))\n",
    "kv = np.concatenate((kv_arms, kv_arms, kv_legs, kv_legs))"
   ]
  },
  {
   "cell_type": "code",
   "execution_count": 6,
   "metadata": {},
   "outputs": [
    {
     "name": "stdout",
     "output_type": "stream",
     "text": [
      "\n",
      "******************************************************************************\n",
      "This program contains Ipopt, a library for large-scale nonlinear optimization.\n",
      " Ipopt is released as open source code under the Eclipse Public License (EPL).\n",
      "         For more information visit https://github.com/coin-or/Ipopt\n",
      "******************************************************************************\n",
      "\n",
      "This is Ipopt version 3.14.14, running with linear solver MUMPS 5.6.2.\n",
      "\n",
      "Number of nonzeros in equality constraint Jacobian...:      126\n",
      "Number of nonzeros in inequality constraint Jacobian.:        0\n",
      "Number of nonzeros in Lagrangian Hessian.............:      142\n",
      "\n",
      "Total number of variables............................:       27\n",
      "                     variables with only lower bounds:        0\n",
      "                variables with lower and upper bounds:        0\n",
      "                     variables with only upper bounds:        0\n",
      "Total number of equality constraints.................:       21\n",
      "Total number of inequality constraints...............:        0\n",
      "        inequality constraints with only lower bounds:        0\n",
      "   inequality constraints with lower and upper bounds:        0\n",
      "        inequality constraints with only upper bounds:        0\n",
      "\n",
      "iter    objective    inf_pr   inf_du lg(mu)  ||d||  lg(rg) alpha_du alpha_pr  ls\n",
      "   0  5.2479115e-03 1.00e+00 1.95e-01  -1.0 0.00e+00    -  0.00e+00 0.00e+00   0\n",
      "   1  3.8856380e+00 7.52e-02 1.66e+00  -1.7 1.00e+00   0.0 1.00e+00 1.00e+00h  1\n",
      "   2  3.8855317e+00 1.62e-06 1.60e+00  -1.7 7.52e-02   1.3 1.00e+00 1.00e+00h  1\n",
      "   3  3.8854301e+00 5.92e-08 2.34e-02  -1.7 3.29e-03   0.9 1.00e+00 1.00e+00h  1\n",
      "   4  3.8854066e+00 5.21e-09 1.95e-02  -3.8 1.03e-03   1.3 1.00e+00 1.00e+00h  1\n",
      "   5  3.8853711e+00 4.67e-08 1.24e-02  -3.8 1.97e-03   0.8 1.00e+00 1.00e+00h  1\n",
      "   6  3.8853627e+00 6.31e-09 1.03e-02  -3.8 6.10e-04   1.2 1.00e+00 1.00e+00h  1\n",
      "   7  3.8853494e+00 4.33e-08 6.47e-03  -3.8 1.15e-03   0.7 1.00e+00 1.00e+00h  1\n",
      "   8  3.8853461e+00 5.34e-09 5.33e-03  -3.8 3.56e-04   1.2 1.00e+00 1.00e+00h  1\n",
      "   9  3.8853408e+00 3.08e-08 3.34e-03  -3.8 6.69e-04   0.7 1.00e+00 1.00e+00h  1\n",
      "iter    objective    inf_pr   inf_du lg(mu)  ||d||  lg(rg) alpha_du alpha_pr  ls\n",
      "  10  3.8853395e+00 3.56e-09 2.75e-03  -3.8 2.07e-04   1.1 1.00e+00 1.00e+00h  1\n",
      "  11  3.8853373e+00 1.80e-08 1.73e-03  -3.8 3.89e-04   0.6 1.00e+00 1.00e+00h  1\n",
      "  12  3.8853368e+00 1.98e-09 1.42e-03  -3.8 1.20e-04   1.1 1.00e+00 1.00e+00h  1\n",
      "  13  3.8853366e+00 2.53e-10 1.32e-03  -5.7 4.18e-05   1.5 1.00e+00 1.00e+00h  1\n",
      "  14  3.8853362e+00 1.71e-09 1.07e-03  -5.7 1.02e-04   1.0 1.00e+00 1.00e+00h  1\n",
      "  15  3.8853361e+00 2.15e-10 9.92e-04  -5.7 3.54e-05   1.4 1.00e+00 1.00e+00h  1\n",
      "  16  3.8853358e+00 1.40e-09 8.00e-04  -5.7 8.55e-05   1.0 1.00e+00 1.00e+00h  1\n",
      "  17  3.8853357e+00 1.73e-10 7.34e-04  -5.7 2.94e-05   1.4 1.00e+00 1.00e+00h  1\n",
      "  18  3.8853355e+00 1.08e-09 5.85e-04  -5.7 7.03e-05   0.9 1.00e+00 1.00e+00h  1\n",
      "  19  3.8853355e+00 1.30e-10 5.34e-04  -5.7 2.41e-05   1.3 1.00e+00 1.00e+00h  1\n",
      "iter    objective    inf_pr   inf_du lg(mu)  ||d||  lg(rg) alpha_du alpha_pr  ls\n",
      "  20  3.8853353e+00 7.73e-10 4.19e-04  -5.7 5.67e-05   0.9 1.00e+00 1.00e+00h  1\n",
      "  21  3.8853353e+00 9.19e-11 3.80e-04  -5.7 1.93e-05   1.3 1.00e+00 1.00e+00h  1\n",
      "  22  3.8853352e+00 5.17e-10 2.93e-04  -5.7 4.46e-05   0.8 1.00e+00 1.00e+00h  1\n",
      "  23  3.8853352e+00 6.01e-11 2.64e-04  -5.7 1.51e-05   1.2 1.00e+00 1.00e+00h  1\n",
      "  24  3.8853352e+00 3.21e-10 2.01e-04  -5.7 3.44e-05   0.8 1.00e+00 1.00e+00h  1\n",
      "  25  3.8853352e+00 3.64e-11 1.80e-04  -5.7 1.16e-05   1.2 1.00e+00 1.00e+00h  1\n",
      "  26  3.8853352e+00 1.83e-10 1.35e-04  -5.7 2.60e-05   0.7 1.00e+00 1.00e+00h  1\n",
      "  27  3.8853352e+00 2.02e-11 1.20e-04  -5.7 8.64e-06   1.1 1.00e+00 1.00e+00h  1\n",
      "  28  3.8853351e+00 9.50e-11 8.66e-05  -5.7 1.88e-05   0.7 1.00e+00 1.00e+00h  1\n",
      "  29  3.8853351e+00 1.02e-11 7.57e-05  -5.7 6.15e-06   1.1 1.00e+00 1.00e+00h  1\n",
      "iter    objective    inf_pr   inf_du lg(mu)  ||d||  lg(rg) alpha_du alpha_pr  ls\n",
      "  30  3.8853351e+00 4.48e-11 5.29e-05  -5.7 1.29e-05   0.6 1.00e+00 1.00e+00h  1\n",
      "  31  3.8853351e+00 4.66e-12 4.55e-05  -5.7 4.16e-06   1.0 1.00e+00 1.00e+00h  1\n",
      "  32  3.8853351e+00 5.79e-13 4.29e-05  -5.7 1.47e-06   1.5 1.00e+00 1.00e+00h  1\n",
      "  33  3.8853351e+00 3.75e-12 3.63e-05  -5.7 3.74e-06   1.0 1.00e+00 1.00e+00h  1\n",
      "  34  3.8853351e+00 4.58e-13 3.40e-05  -5.7 1.31e-06   1.4 1.00e+00 1.00e+00h  1\n",
      "  35  3.8853351e+00 2.86e-12 2.82e-05  -5.7 3.26e-06   0.9 1.00e+00 1.00e+00h  1\n",
      "  36  3.8853351e+00 3.44e-13 2.62e-05  -5.7 1.14e-06   1.4 1.00e+00 1.00e+00h  1\n",
      "  37  3.8853351e+00 2.06e-12 2.13e-05  -5.7 2.77e-06   0.9 1.00e+00 1.00e+00h  1\n",
      "  38  3.8853351e+00 2.43e-13 1.96e-05  -5.7 9.56e-07   1.3 1.00e+00 1.00e+00h  1\n",
      "  39  3.8853351e+00 1.39e-12 1.56e-05  -5.7 2.28e-06   0.8 1.00e+00 1.00e+00h  1\n",
      "iter    objective    inf_pr   inf_du lg(mu)  ||d||  lg(rg) alpha_du alpha_pr  ls\n",
      "  40  3.8853351e+00 1.63e-13 1.42e-05  -8.6 7.78e-07   1.3 1.00e+00 1.00e+00h  1\n",
      "  41  3.8853351e+00 8.78e-13 1.10e-05  -8.6 1.81e-06   0.8 1.00e+00 1.00e+00h  1\n",
      "  42  3.8853351e+00 1.00e-13 9.89e-06  -8.6 6.11e-07   1.2 1.00e+00 1.00e+00h  1\n",
      "  43  3.8853351e+00 5.11e-13 7.44e-06  -8.6 1.38e-06   0.7 1.00e+00 1.00e+00h  1\n",
      "  44  3.8853351e+00 5.65e-14 6.62e-06  -8.6 4.60e-07   1.2 1.00e+00 1.00e+00h  1\n",
      "  45  3.8853351e+00 2.73e-13 4.84e-06  -8.6 1.01e-06   0.7 1.00e+00 1.00e+00h  1\n",
      "  46  3.8853351e+00 2.93e-14 4.25e-06  -8.6 3.32e-07   1.1 1.00e+00 1.00e+00h  1\n",
      "  47  3.8853351e+00 1.33e-13 3.00e-06  -8.6 7.04e-07   0.6 1.00e+00 1.00e+00h  1\n",
      "  48  3.8853351e+00 1.38e-14 2.59e-06  -8.6 2.28e-07   1.1 1.00e+00 1.00e+00h  1\n",
      "  49  3.8853351e+00 1.84e-15 2.45e-06  -8.6 8.09e-08   1.5 1.00e+00 1.00e+00h  1\n",
      "iter    objective    inf_pr   inf_du lg(mu)  ||d||  lg(rg) alpha_du alpha_pr  ls\n",
      "  50  3.8853351e+00 1.15e-14 2.08e-06  -8.6 2.06e-07   1.0 1.00e+00 1.00e+00h  1\n",
      "  51  3.8853351e+00 1.37e-15 1.96e-06  -8.6 7.26e-08   1.4 1.00e+00 1.00e+00h  1\n",
      "  52  3.8853351e+00 8.68e-15 1.63e-06  -8.6 1.82e-07   1.0 1.00e+00 1.00e+00h  1\n",
      "  53  3.8853351e+00 1.34e-15 1.52e-06  -8.6 6.35e-08   1.4 1.00e+00 1.00e+00h  1\n",
      "  54  3.8853351e+00 6.39e-15 1.24e-06  -8.6 1.56e-07   0.9 1.00e+00 1.00e+00h  1\n",
      "  55  3.8853351e+00 7.74e-16 1.15e-06  -8.6 5.40e-08   1.3 1.00e+00 1.00e+00h  1\n",
      "  56  3.8853351e+00 4.44e-15 9.19e-07  -8.6 1.30e-07   0.9 1.00e+00 1.00e+00h  1\n",
      "  57  3.8853351e+00 5.45e-16 8.40e-07  -8.6 4.44e-08   1.3 1.00e+00 1.00e+00h  1\n",
      "  58  3.8853351e+00 2.93e-15 6.56e-07  -8.6 1.04e-07   0.8 1.00e+00 1.00e+00h  1\n",
      "  59  3.8853351e+00 4.16e-16 5.93e-07  -8.6 3.53e-08   1.2 1.00e+00 1.00e+00h  1\n",
      "iter    objective    inf_pr   inf_du lg(mu)  ||d||  lg(rg) alpha_du alpha_pr  ls\n",
      "  60  3.8853351e+00 1.81e-15 4.51e-07  -8.6 8.04e-08   0.7 1.00e+00 1.00e+00h  1\n",
      "  61  3.8853351e+00 4.86e-16 4.03e-07  -8.6 2.69e-08   1.2 1.00e+00 1.00e+00h  1\n",
      "  62  3.8853351e+00 9.79e-16 2.97e-07  -8.6 5.96e-08   0.7 1.00e+00 1.00e+00h  1\n",
      "  63  3.8853351e+00 1.18e-16 2.62e-07  -8.6 1.97e-08   1.1 1.00e+00 1.00e+00h  1\n",
      "  64  3.8853351e+00 3.92e-16 1.87e-07  -8.6 4.23e-08   0.6 1.00e+00 1.00e+00h  1\n",
      "  65  3.8853351e+00 1.94e-16 1.63e-07  -8.6 1.38e-08   1.1 1.00e+00 1.00e+00h  1\n",
      "  66  3.8853351e+00 6.28e-17 1.54e-07  -8.6 4.89e-09   1.5 1.00e+00 1.00e+00h  1\n",
      "  67  3.8853351e+00 1.63e-16 1.32e-07  -8.6 1.26e-08   1.0 1.00e+00 1.00e+00h  1\n",
      "  68  3.8853351e+00 1.84e-16 1.24e-07  -8.6 4.43e-09   1.4 1.00e+00 1.00e+00h  1\n",
      "  69  3.8853351e+00 8.00e-17 1.04e-07  -8.6 1.12e-08   1.0 1.00e+00 1.00e+00h  1\n",
      "iter    objective    inf_pr   inf_du lg(mu)  ||d||  lg(rg) alpha_du alpha_pr  ls\n",
      "  70  3.8853351e+00 2.08e-16 9.72e-08  -8.6 3.91e-09   1.4 1.00e+00 1.00e+00h  1\n",
      "\n",
      "Number of Iterations....: 70\n",
      "\n",
      "                                   (scaled)                 (unscaled)\n",
      "Objective...............:   3.8853351325000243e+00    3.8853351325000243e+00\n",
      "Dual infeasibility......:   9.7240285934496740e-08    9.7240285934496740e-08\n",
      "Constraint violation....:   2.0816681711721685e-16    2.0816681711721685e-16\n",
      "Variable bound violation:   0.0000000000000000e+00    0.0000000000000000e+00\n",
      "Complementarity.........:   0.0000000000000000e+00    0.0000000000000000e+00\n",
      "Overall NLP error.......:   9.7240285934496740e-08    9.7240285934496740e-08\n",
      "\n",
      "\n",
      "Number of objective function evaluations             = 71\n",
      "Number of objective gradient evaluations             = 71\n",
      "Number of equality constraint evaluations            = 71\n",
      "Number of inequality constraint evaluations          = 0\n",
      "Number of equality constraint Jacobian evaluations   = 71\n",
      "Number of inequality constraint Jacobian evaluations = 0\n",
      "Number of Lagrangian Hessian evaluations             = 70\n",
      "Total seconds in IPOPT                               = 0.084\n",
      "\n",
      "EXIT: Solved To Acceptable Level.\n",
      "      solver  :   t_proc      (avg)   t_wall      (avg)    n_eval\n",
      "       nlp_f  | 470.00us (  6.62us) 473.05us (  6.66us)        71\n",
      "       nlp_g  |   1.14ms ( 16.04us)   1.04ms ( 14.66us)        71\n",
      "  nlp_grad_f  |   1.12ms ( 15.57us)   1.12ms ( 15.49us)        72\n",
      "  nlp_hess_l  |  25.56ms (365.13us)  25.61ms (365.88us)        70\n",
      "   nlp_jac_g  |   7.77ms (107.92us)   7.78ms (108.10us)        72\n",
      "       total  |  83.95ms ( 83.95ms)  83.91ms ( 83.91ms)         1\n"
     ]
    }
   ],
   "source": [
    "# Modify the robot model and initialize\n",
    "create_urdf_instance.modify_lengths(modifications)\n",
    "urdf_robot_string = create_urdf_instance.write_urdf_to_file()\n",
    "create_urdf_instance.reset_modifications()\n",
    "robot_model_init = RobotModel(urdf_robot_string, \"stickBot\", joint_name_list)\n",
    "s_des, xyz_rpy, H_b = robot_model_init.compute_desired_position_walking()"
   ]
  },
  {
   "cell_type": "code",
   "execution_count": 7,
   "metadata": {},
   "outputs": [
    {
     "data": {
      "text/plain": [
       "array([ 0.49923,  0.     ,  0.50083,  0.     ,  0.00301,  0.251  ,  0.00301,  0.251  , -0.00164,  0.     , -0.00165,  0.     , -1.     ,  0.616  ,\n",
       "       -1.     ,  0.616  , -0.50078, -0.49918, -0.00342, -0.00343])"
      ]
     },
     "execution_count": 7,
     "metadata": {},
     "output_type": "execute_result"
    }
   ],
   "source": [
    "s_des"
   ]
  },
  {
   "cell_type": "code",
   "execution_count": 8,
   "metadata": {},
   "outputs": [
    {
     "name": "stderr",
     "output_type": "stream",
     "text": [
      "WARNING:root:Motor parameters are not supported in JaxsimSimulator\n",
      "\u001b[34mjaxsim[1710340]\u001b[0m \u001b[1;30mDEBUG\u001b[0m \u001b[32mFound model 'stickBot' in SDF resource\u001b[0m\n",
      "\u001b[34mjaxsim[1710340]\u001b[0m \u001b[1;30mDEBUG\u001b[0m \u001b[32mModel 'stickBot' is floating-base\u001b[0m\n",
      "\u001b[34mjaxsim[1710340]\u001b[0m \u001b[1;30mDEBUG\u001b[0m \u001b[32mConsidering 'root_link' as base link\u001b[0m\n",
      "\u001b[34mjaxsim[1710340]\u001b[0m \u001b[1;30mINFO\u001b[0m Lumping chain: r_foot_rear->(r_foot_rear_ft_sensor)->r_ankle_2\n",
      "\u001b[34mjaxsim[1710340]\u001b[0m \u001b[1;30mINFO\u001b[0m Lumping chain: r_foot_front->(r_foot_front_ft_sensor)->r_ankle_2\n",
      "\u001b[34mjaxsim[1710340]\u001b[0m \u001b[1;30mINFO\u001b[0m Lumping chain: l_foot_rear->(l_foot_rear_ft_sensor)->l_ankle_2\n",
      "\u001b[34mjaxsim[1710340]\u001b[0m \u001b[1;30mINFO\u001b[0m Lumping chain: l_foot_front->(l_foot_front_ft_sensor)->l_ankle_2\n",
      "\u001b[34mjaxsim[1710340]\u001b[0m \u001b[1;30mINFO\u001b[0m Lumping chain: r_shoulder_3->(r_arm_ft_sensor)->r_shoulder_2\n",
      "\u001b[34mjaxsim[1710340]\u001b[0m \u001b[1;30mINFO\u001b[0m Lumping chain: l_shoulder_3->(l_arm_ft_sensor)->l_shoulder_2\n",
      "\u001b[34mjaxsim[1710340]\u001b[0m \u001b[1;30mINFO\u001b[0m Lumping chain: r_hip_3->(r_leg_ft_sensor)->r_hip_2\n",
      "\u001b[34mjaxsim[1710340]\u001b[0m \u001b[1;30mINFO\u001b[0m Lumping chain: l_hip_3->(l_leg_ft_sensor)->l_hip_2\n",
      "\u001b[34mjaxsim[1710340]\u001b[0m \u001b[1;30mINFO\u001b[0m Link 'l_foot_front' became a frame\n",
      "\u001b[34mjaxsim[1710340]\u001b[0m \u001b[1;30mINFO\u001b[0m Link 'l_hip_3' became a frame\n",
      "\u001b[34mjaxsim[1710340]\u001b[0m \u001b[1;30mINFO\u001b[0m Link 'r_foot_rear' became a frame\n",
      "\u001b[34mjaxsim[1710340]\u001b[0m \u001b[1;30mINFO\u001b[0m Link 'l_foot_rear' became a frame\n",
      "\u001b[34mjaxsim[1710340]\u001b[0m \u001b[1;30mINFO\u001b[0m Link 'l_shoulder_3' became a frame\n",
      "\u001b[34mjaxsim[1710340]\u001b[0m \u001b[1;30mINFO\u001b[0m Link 'r_shoulder_3' became a frame\n",
      "\u001b[34mjaxsim[1710340]\u001b[0m \u001b[1;30mINFO\u001b[0m Link 'r_hip_3' became a frame\n",
      "\u001b[34mjaxsim[1710340]\u001b[0m \u001b[1;30mINFO\u001b[0m Link 'r_foot_front' became a frame\n",
      "\u001b[34mjaxsim[1710340]\u001b[0m \u001b[1;30mINFO\u001b[0m New parent of frame 'l_foot_front' is 'l_ankle_2'\n",
      "\u001b[34mjaxsim[1710340]\u001b[0m \u001b[1;30mINFO\u001b[0m New parent of frame 'l_foot_rear' is 'l_ankle_2'\n",
      "\u001b[34mjaxsim[1710340]\u001b[0m \u001b[1;30mINFO\u001b[0m New parent of frame 'l_hip_3' is 'l_hip_2'\n",
      "\u001b[34mjaxsim[1710340]\u001b[0m \u001b[1;30mINFO\u001b[0m New parent of frame 'l_shoulder_3' is 'l_shoulder_2'\n",
      "\u001b[34mjaxsim[1710340]\u001b[0m \u001b[1;30mINFO\u001b[0m New parent of frame 'r_foot_front' is 'r_ankle_2'\n",
      "\u001b[34mjaxsim[1710340]\u001b[0m \u001b[1;30mINFO\u001b[0m New parent of frame 'r_foot_rear' is 'r_ankle_2'\n",
      "\u001b[34mjaxsim[1710340]\u001b[0m \u001b[1;30mINFO\u001b[0m New parent of frame 'r_hip_3' is 'r_hip_2'\n",
      "\u001b[34mjaxsim[1710340]\u001b[0m \u001b[1;30mINFO\u001b[0m New parent of frame 'r_shoulder_3' is 'r_shoulder_2'\n",
      "\u001b[34mjaxsim[1710340]\u001b[0m \u001b[1;30mDEBUG\u001b[0m \u001b[32mMoving collidable point: l_foot_front -> l_ankle_2\u001b[0m\n",
      "\u001b[34mjaxsim[1710340]\u001b[0m \u001b[1;30mDEBUG\u001b[0m \u001b[32mMoving collidable point: l_foot_front -> l_ankle_2\u001b[0m\n",
      "\u001b[34mjaxsim[1710340]\u001b[0m \u001b[1;30mDEBUG\u001b[0m \u001b[32mMoving collidable point: l_foot_front -> l_ankle_2\u001b[0m\n",
      "\u001b[34mjaxsim[1710340]\u001b[0m \u001b[1;30mDEBUG\u001b[0m \u001b[32mMoving collidable point: l_foot_front -> l_ankle_2\u001b[0m\n",
      "\u001b[34mjaxsim[1710340]\u001b[0m \u001b[1;30mDEBUG\u001b[0m \u001b[32mMoving collidable point: l_foot_front -> l_ankle_2\u001b[0m\n",
      "\u001b[34mjaxsim[1710340]\u001b[0m \u001b[1;30mDEBUG\u001b[0m \u001b[32mMoving collidable point: l_foot_front -> l_ankle_2\u001b[0m\n",
      "\u001b[34mjaxsim[1710340]\u001b[0m \u001b[1;30mDEBUG\u001b[0m \u001b[32mMoving collidable point: l_foot_front -> l_ankle_2\u001b[0m\n",
      "\u001b[34mjaxsim[1710340]\u001b[0m \u001b[1;30mDEBUG\u001b[0m \u001b[32mMoving collidable point: l_foot_front -> l_ankle_2\u001b[0m\n",
      "\u001b[34mjaxsim[1710340]\u001b[0m \u001b[1;30mDEBUG\u001b[0m \u001b[32mMoving collidable point: l_foot_rear -> l_ankle_2\u001b[0m\n",
      "\u001b[34mjaxsim[1710340]\u001b[0m \u001b[1;30mDEBUG\u001b[0m \u001b[32mMoving collidable point: l_foot_rear -> l_ankle_2\u001b[0m\n",
      "\u001b[34mjaxsim[1710340]\u001b[0m \u001b[1;30mDEBUG\u001b[0m \u001b[32mMoving collidable point: l_foot_rear -> l_ankle_2\u001b[0m\n",
      "\u001b[34mjaxsim[1710340]\u001b[0m \u001b[1;30mDEBUG\u001b[0m \u001b[32mMoving collidable point: l_foot_rear -> l_ankle_2\u001b[0m\n",
      "\u001b[34mjaxsim[1710340]\u001b[0m \u001b[1;30mDEBUG\u001b[0m \u001b[32mMoving collidable point: l_foot_rear -> l_ankle_2\u001b[0m\n",
      "\u001b[34mjaxsim[1710340]\u001b[0m \u001b[1;30mDEBUG\u001b[0m \u001b[32mMoving collidable point: l_foot_rear -> l_ankle_2\u001b[0m\n",
      "\u001b[34mjaxsim[1710340]\u001b[0m \u001b[1;30mDEBUG\u001b[0m \u001b[32mMoving collidable point: l_foot_rear -> l_ankle_2\u001b[0m\n",
      "\u001b[34mjaxsim[1710340]\u001b[0m \u001b[1;30mDEBUG\u001b[0m \u001b[32mMoving collidable point: l_foot_rear -> l_ankle_2\u001b[0m\n",
      "\u001b[34mjaxsim[1710340]\u001b[0m \u001b[1;30mDEBUG\u001b[0m \u001b[32mMoving collidable point: r_foot_front -> r_ankle_2\u001b[0m\n",
      "\u001b[34mjaxsim[1710340]\u001b[0m \u001b[1;30mDEBUG\u001b[0m \u001b[32mMoving collidable point: r_foot_front -> r_ankle_2\u001b[0m\n",
      "\u001b[34mjaxsim[1710340]\u001b[0m \u001b[1;30mDEBUG\u001b[0m \u001b[32mMoving collidable point: r_foot_front -> r_ankle_2\u001b[0m\n",
      "\u001b[34mjaxsim[1710340]\u001b[0m \u001b[1;30mDEBUG\u001b[0m \u001b[32mMoving collidable point: r_foot_front -> r_ankle_2\u001b[0m\n",
      "\u001b[34mjaxsim[1710340]\u001b[0m \u001b[1;30mDEBUG\u001b[0m \u001b[32mMoving collidable point: r_foot_front -> r_ankle_2\u001b[0m\n",
      "\u001b[34mjaxsim[1710340]\u001b[0m \u001b[1;30mDEBUG\u001b[0m \u001b[32mMoving collidable point: r_foot_front -> r_ankle_2\u001b[0m\n",
      "\u001b[34mjaxsim[1710340]\u001b[0m \u001b[1;30mDEBUG\u001b[0m \u001b[32mMoving collidable point: r_foot_front -> r_ankle_2\u001b[0m\n",
      "\u001b[34mjaxsim[1710340]\u001b[0m \u001b[1;30mDEBUG\u001b[0m \u001b[32mMoving collidable point: r_foot_front -> r_ankle_2\u001b[0m\n",
      "\u001b[34mjaxsim[1710340]\u001b[0m \u001b[1;30mDEBUG\u001b[0m \u001b[32mMoving collidable point: r_foot_rear -> r_ankle_2\u001b[0m\n",
      "\u001b[34mjaxsim[1710340]\u001b[0m \u001b[1;30mDEBUG\u001b[0m \u001b[32mMoving collidable point: r_foot_rear -> r_ankle_2\u001b[0m\n",
      "\u001b[34mjaxsim[1710340]\u001b[0m \u001b[1;30mDEBUG\u001b[0m \u001b[32mMoving collidable point: r_foot_rear -> r_ankle_2\u001b[0m\n",
      "\u001b[34mjaxsim[1710340]\u001b[0m \u001b[1;30mDEBUG\u001b[0m \u001b[32mMoving collidable point: r_foot_rear -> r_ankle_2\u001b[0m\n",
      "\u001b[34mjaxsim[1710340]\u001b[0m \u001b[1;30mDEBUG\u001b[0m \u001b[32mMoving collidable point: r_foot_rear -> r_ankle_2\u001b[0m\n",
      "\u001b[34mjaxsim[1710340]\u001b[0m \u001b[1;30mDEBUG\u001b[0m \u001b[32mMoving collidable point: r_foot_rear -> r_ankle_2\u001b[0m\n",
      "\u001b[34mjaxsim[1710340]\u001b[0m \u001b[1;30mDEBUG\u001b[0m \u001b[32mMoving collidable point: r_foot_rear -> r_ankle_2\u001b[0m\n",
      "\u001b[34mjaxsim[1710340]\u001b[0m \u001b[1;30mDEBUG\u001b[0m \u001b[32mMoving collidable point: r_foot_rear -> r_ankle_2\u001b[0m\n",
      "\u001b[34mjaxsim[1710340]\u001b[0m \u001b[1;30mINFO\u001b[0m The model reduction logic assumes that removed joints have zero angles\n",
      "\u001b[34mjaxsim[1710340]\u001b[0m \u001b[1;30mINFO\u001b[0m Lumping chain: r_hand->(r_wrist_yaw)->r_wrist_1\n",
      "\u001b[34mjaxsim[1710340]\u001b[0m \u001b[1;30mINFO\u001b[0m Lumping chain: l_hand->(l_wrist_yaw)->l_wrist_1\n",
      "\u001b[34mjaxsim[1710340]\u001b[0m \u001b[1;30mINFO\u001b[0m Lumping chain: r_wrist_1->(r_wrist_pitch)->r_forearm\n",
      "\u001b[34mjaxsim[1710340]\u001b[0m \u001b[1;30mINFO\u001b[0m Lumping chain: l_wrist_1->(l_wrist_pitch)->l_forearm\n",
      "\u001b[34mjaxsim[1710340]\u001b[0m \u001b[1;30mINFO\u001b[0m Lumping chain: r_forearm->(r_wrist_prosup)->r_elbow_1\n",
      "\u001b[34mjaxsim[1710340]\u001b[0m \u001b[1;30mINFO\u001b[0m Lumping chain: l_forearm->(l_wrist_prosup)->l_elbow_1\n",
      "\u001b[34mjaxsim[1710340]\u001b[0m \u001b[1;30mINFO\u001b[0m Lumping chain: lidar->(lidar_joint)->head\n",
      "\u001b[34mjaxsim[1710340]\u001b[0m \u001b[1;30mINFO\u001b[0m Lumping chain: camera_tilt->(camera_tilt_joint)->head\n",
      "\u001b[34mjaxsim[1710340]\u001b[0m \u001b[1;30mINFO\u001b[0m Lumping chain: head->(neck_yaw)->neck_3\n",
      "\u001b[34mjaxsim[1710340]\u001b[0m \u001b[1;30mINFO\u001b[0m Lumping chain: neck_3->(neck_roll)->neck_2\n",
      "\u001b[34mjaxsim[1710340]\u001b[0m \u001b[1;30mINFO\u001b[0m Lumping chain: neck_2->(neck_pitch)->chest\n",
      "\u001b[34mjaxsim[1710340]\u001b[0m \u001b[1;30mINFO\u001b[0m Lumping chain: chest->(torso_yaw)->torso_2\n",
      "\u001b[34mjaxsim[1710340]\u001b[0m \u001b[1;30mINFO\u001b[0m Lumping chain: torso_2->(torso_pitch)->torso_1\n",
      "\u001b[34mjaxsim[1710340]\u001b[0m \u001b[1;30mINFO\u001b[0m Lumping chain: torso_1->(torso_roll)->root_link\n",
      "\u001b[34mjaxsim[1710340]\u001b[0m \u001b[1;30mINFO\u001b[0m Link 'torso_2' became a frame\n",
      "\u001b[34mjaxsim[1710340]\u001b[0m \u001b[1;30mINFO\u001b[0m Link 'r_forearm' became a frame\n",
      "\u001b[34mjaxsim[1710340]\u001b[0m \u001b[1;30mINFO\u001b[0m Link 'head' became a frame\n",
      "\u001b[34mjaxsim[1710340]\u001b[0m \u001b[1;30mINFO\u001b[0m Link 'neck_3' became a frame\n",
      "\u001b[34mjaxsim[1710340]\u001b[0m \u001b[1;30mINFO\u001b[0m Link 'neck_2' became a frame\n",
      "\u001b[34mjaxsim[1710340]\u001b[0m \u001b[1;30mINFO\u001b[0m Link 'chest' became a frame\n",
      "\u001b[34mjaxsim[1710340]\u001b[0m \u001b[1;30mINFO\u001b[0m Link 'lidar' became a frame\n",
      "\u001b[34mjaxsim[1710340]\u001b[0m \u001b[1;30mINFO\u001b[0m Link 'l_hand' became a frame\n",
      "\u001b[34mjaxsim[1710340]\u001b[0m \u001b[1;30mINFO\u001b[0m Link 'l_wrist_1' became a frame\n",
      "\u001b[34mjaxsim[1710340]\u001b[0m \u001b[1;30mINFO\u001b[0m Link 'torso_1' became a frame\n",
      "\u001b[34mjaxsim[1710340]\u001b[0m \u001b[1;30mINFO\u001b[0m Link 'r_wrist_1' became a frame\n",
      "\u001b[34mjaxsim[1710340]\u001b[0m \u001b[1;30mINFO\u001b[0m Link 'camera_tilt' became a frame\n",
      "\u001b[34mjaxsim[1710340]\u001b[0m \u001b[1;30mINFO\u001b[0m Link 'l_forearm' became a frame\n",
      "\u001b[34mjaxsim[1710340]\u001b[0m \u001b[1;30mINFO\u001b[0m Link 'r_hand' became a frame\n",
      "\u001b[34mjaxsim[1710340]\u001b[0m \u001b[1;30mINFO\u001b[0m New parent of frame 'camera_tilt' is 'root_link'\n",
      "\u001b[34mjaxsim[1710340]\u001b[0m \u001b[1;30mINFO\u001b[0m New parent of frame 'chest' is 'root_link'\n",
      "\u001b[34mjaxsim[1710340]\u001b[0m \u001b[1;30mINFO\u001b[0m New parent of frame 'head' is 'root_link'\n",
      "\u001b[34mjaxsim[1710340]\u001b[0m \u001b[1;30mINFO\u001b[0m New parent of frame 'l_forearm' is 'l_elbow_1'\n",
      "\u001b[34mjaxsim[1710340]\u001b[0m \u001b[1;30mINFO\u001b[0m New parent of frame 'l_hand' is 'l_elbow_1'\n",
      "\u001b[34mjaxsim[1710340]\u001b[0m \u001b[1;30mINFO\u001b[0m New parent of frame 'l_wrist_1' is 'l_elbow_1'\n",
      "\u001b[34mjaxsim[1710340]\u001b[0m \u001b[1;30mINFO\u001b[0m New parent of frame 'lidar' is 'root_link'\n",
      "\u001b[34mjaxsim[1710340]\u001b[0m \u001b[1;30mINFO\u001b[0m New parent of frame 'neck_2' is 'root_link'\n",
      "\u001b[34mjaxsim[1710340]\u001b[0m \u001b[1;30mINFO\u001b[0m New parent of frame 'neck_3' is 'root_link'\n",
      "\u001b[34mjaxsim[1710340]\u001b[0m \u001b[1;30mINFO\u001b[0m New parent of frame 'r_forearm' is 'r_elbow_1'\n",
      "\u001b[34mjaxsim[1710340]\u001b[0m \u001b[1;30mINFO\u001b[0m New parent of frame 'r_hand' is 'r_elbow_1'\n",
      "\u001b[34mjaxsim[1710340]\u001b[0m \u001b[1;30mINFO\u001b[0m New parent of frame 'r_wrist_1' is 'r_elbow_1'\n",
      "\u001b[34mjaxsim[1710340]\u001b[0m \u001b[1;30mINFO\u001b[0m New parent of frame 'torso_1' is 'root_link'\n",
      "\u001b[34mjaxsim[1710340]\u001b[0m \u001b[1;30mINFO\u001b[0m New parent of frame 'torso_2' is 'root_link'\n",
      "\u001b[34mjaxsim[1710340]\u001b[0m \u001b[1;30mDEBUG\u001b[0m \u001b[32mMoving collidable point: l_hand -> l_elbow_1\u001b[0m\n",
      "\u001b[34mjaxsim[1710340]\u001b[0m \u001b[1;30mDEBUG\u001b[0m \u001b[32mMoving collidable point: l_hand -> l_elbow_1\u001b[0m\n",
      "\u001b[34mjaxsim[1710340]\u001b[0m \u001b[1;30mDEBUG\u001b[0m \u001b[32mMoving collidable point: l_hand -> l_elbow_1\u001b[0m\n",
      "\u001b[34mjaxsim[1710340]\u001b[0m \u001b[1;30mDEBUG\u001b[0m \u001b[32mMoving collidable point: l_hand -> l_elbow_1\u001b[0m\n",
      "\u001b[34mjaxsim[1710340]\u001b[0m \u001b[1;30mDEBUG\u001b[0m \u001b[32mMoving collidable point: l_hand -> l_elbow_1\u001b[0m\n",
      "\u001b[34mjaxsim[1710340]\u001b[0m \u001b[1;30mDEBUG\u001b[0m \u001b[32mMoving collidable point: l_hand -> l_elbow_1\u001b[0m\n",
      "\u001b[34mjaxsim[1710340]\u001b[0m \u001b[1;30mDEBUG\u001b[0m \u001b[32mMoving collidable point: l_hand -> l_elbow_1\u001b[0m\n",
      "\u001b[34mjaxsim[1710340]\u001b[0m \u001b[1;30mDEBUG\u001b[0m \u001b[32mMoving collidable point: l_hand -> l_elbow_1\u001b[0m\n",
      "\u001b[34mjaxsim[1710340]\u001b[0m \u001b[1;30mDEBUG\u001b[0m \u001b[32mMoving collidable point: r_hand -> r_elbow_1\u001b[0m\n",
      "\u001b[34mjaxsim[1710340]\u001b[0m \u001b[1;30mDEBUG\u001b[0m \u001b[32mMoving collidable point: r_hand -> r_elbow_1\u001b[0m\n",
      "\u001b[34mjaxsim[1710340]\u001b[0m \u001b[1;30mDEBUG\u001b[0m \u001b[32mMoving collidable point: r_hand -> r_elbow_1\u001b[0m\n",
      "\u001b[34mjaxsim[1710340]\u001b[0m \u001b[1;30mDEBUG\u001b[0m \u001b[32mMoving collidable point: r_hand -> r_elbow_1\u001b[0m\n",
      "\u001b[34mjaxsim[1710340]\u001b[0m \u001b[1;30mDEBUG\u001b[0m \u001b[32mMoving collidable point: r_hand -> r_elbow_1\u001b[0m\n",
      "\u001b[34mjaxsim[1710340]\u001b[0m \u001b[1;30mDEBUG\u001b[0m \u001b[32mMoving collidable point: r_hand -> r_elbow_1\u001b[0m\n",
      "\u001b[34mjaxsim[1710340]\u001b[0m \u001b[1;30mDEBUG\u001b[0m \u001b[32mMoving collidable point: r_hand -> r_elbow_1\u001b[0m\n",
      "\u001b[34mjaxsim[1710340]\u001b[0m \u001b[1;30mDEBUG\u001b[0m \u001b[32mMoving collidable point: r_hand -> r_elbow_1\u001b[0m\n",
      "WARNING:root:Defaulting to optimized ground parameters: SoftContactsParams(K=Array(536924.14268, dtype=float64), D=Array(54966.19975, dtype=float64), mu=Array(0.5, dtype=float64))\n"
     ]
    }
   ],
   "source": [
    "# Define simulator and set initial position\n",
    "jax_instance = JaxsimSimulator()\n",
    "jax_instance.load_model(robot_model_init, s=s_des, xyz_rpy=xyz_rpy, kv_motors=kv, Im=Im)\n",
    "s, ds, tau = jax_instance.get_state()\n",
    "t = 0.0  # jax_instance.get_simulation_time()\n",
    "H_b = jax_instance.get_base()\n",
    "w_b = jax_instance.get_base_velocity()\n",
    "jax_instance.visualize_robot_flag = True\n",
    "jax_instance.render()"
   ]
  },
  {
   "cell_type": "code",
   "execution_count": 9,
   "metadata": {},
   "outputs": [],
   "source": [
    "# print(\"H_b: {}\".format(H_b))\n",
    "# print(\"w_b: {}\".format(w_b))\n",
    "# print(\"s: {}\".format(s[joint_map]))"
   ]
  },
  {
   "cell_type": "code",
   "execution_count": 10,
   "metadata": {},
   "outputs": [
    {
     "name": "stdout",
     "output_type": "stream",
     "text": [
      "[DEBUG] [2024-03-29 10:57:21.694] [thread: 1710340] [blf] [StdImplementation::getParameterPrivate] Parameter named 'verbosity' not found.\n",
      "[INFO] [2024-03-29 10:57:21.694] [thread: 1710340] [blf] [QPTSID::initialize] 'verbosity' not found. The following parameter will be used 'false'.\n",
      "[DEBUG] [2024-03-29 10:57:21.694] [thread: 1710340] [blf] [StdImplementation::getParameterPrivate] Parameter named 'mask' not found.\n",
      "[INFO] [2024-03-29 10:57:21.694] [thread: 1710340] [blf] [CoMTask::initialize] [CoMTask Task.] Unable to find the mask parameter. The default value is used: true true true.\n",
      "[DEBUG] [2024-03-29 10:57:21.695] [thread: 1710340] [blf] [StdImplementation::getParameterPrivate] Parameter named 'mask' not found.\n",
      "[INFO] [2024-03-29 10:57:21.695] [thread: 1710340] [blf] [SE3Task::initialize]  [SE3Task Optimal Control Element - Frame name:  l_sole] Unable to find the mask parameter. The default value is used: true true true.\n",
      "[DEBUG] [2024-03-29 10:57:21.695] [thread: 1710340] [blf] [StdImplementation::getParameterPrivate] Parameter named 'mask' not found.\n",
      "[INFO] [2024-03-29 10:57:21.695] [thread: 1710340] [blf] [SE3Task::initialize]  [SE3Task Optimal Control Element - Frame name:  r_sole] Unable to find the mask parameter. The default value is used: true true true.\n",
      "[DEBUG] [2024-03-29 10:57:21.725] [thread: 1710340] [blf] [StdImplementation::getParameterPrivate] Parameter named 'ipopt_tolerance' not found.\n",
      "[INFO] [2024-03-29 10:57:21.725] [thread: 1710340] [blf] [CentroidalMPC::Impl::loadParameters] Unable to load the parameter named 'ipopt_tolerance'. The default one will be used '1e-08'.\n",
      "[DEBUG] [2024-03-29 10:57:21.725] [thread: 1710340] [blf] [StdImplementation::getParameterPrivate] Parameter named 'ipopt_max_iteration' not found.\n",
      "[INFO] [2024-03-29 10:57:21.725] [thread: 1710340] [blf] [CentroidalMPC::Impl::loadParameters] Unable to load the parameter named 'ipopt_max_iteration'. The default one will be used '3000'.\n",
      "[DEBUG] [2024-03-29 10:57:21.725] [thread: 1710340] [blf] [StdImplementation::getParameterPrivate] Parameter named 'solver_verbosity' not found.\n",
      "[INFO] [2024-03-29 10:57:21.725] [thread: 1710340] [blf] [CentroidalMPC::Impl::loadParameters] Unable to load the parameter named 'solver_verbosity'. The default one will be used '0'.\n",
      "[DEBUG] [2024-03-29 10:57:21.725] [thread: 1710340] [blf] [StdImplementation::getParameterPrivate] Parameter named 'is_warm_start_enabled' not found.\n",
      "[INFO] [2024-03-29 10:57:21.725] [thread: 1710340] [blf] [CentroidalMPC::Impl::loadParameters] Unable to load the parameter named 'is_warm_start_enabled'. The default one will be used 'false'.\n",
      "[DEBUG] [2024-03-29 10:57:21.725] [thread: 1710340] [blf] [StdImplementation::getParameterPrivate] Parameter named 'is_cse_enabled' not found.\n",
      "[INFO] [2024-03-29 10:57:21.725] [thread: 1710340] [blf] [CentroidalMPC::Impl::loadParameters] Unable to load the parameter named 'is_cse_enabled'. The default one will be used 'false'.\n",
      "[DEBUG] [2024-03-29 10:57:21.896] [thread: 1710340] [blf] [StdImplementation::getParameterPrivate] Parameter named 'interpolation_method' not found.\n",
      "[INFO] [2024-03-29 10:57:21.896] [thread: 1710340] [blf] [SwingFootPlanner::initialize] The parameter named 'interpolation_method' not found. The 'min_acceleration' method will be used.\n",
      "[DEBUG] [2024-03-29 10:57:21.896] [thread: 1710340] [blf] [StdImplementation::getParameterPrivate] Parameter named 'interpolation_method' not found.\n",
      "[INFO] [2024-03-29 10:57:21.896] [thread: 1710340] [blf] [SwingFootPlanner::initialize] The parameter named 'interpolation_method' not found. The 'min_acceleration' method will be used.\n"
     ]
    }
   ],
   "source": [
    "# Define the controller parameters  and instantiate the controller\n",
    "# Controller Parameters\n",
    "tsid_parameter = TSIDParameterTuning()\n",
    "mpc_parameters = MPCParameterTuning()\n",
    "\n",
    "# TSID Instance\n",
    "TSID_controller_instance = TSIDController(frequency=0.001, robot_model=robot_model_init)\n",
    "TSID_controller_instance.define_tasks(tsid_parameter)\n",
    "TSID_controller_instance.set_state_with_base(s, ds, H_b, w_b, t)\n",
    "\n",
    "# MPC Instance\n",
    "step_lenght = 0.1\n",
    "mpc = CentroidalMPC(robot_model=robot_model_init, step_length=step_lenght)\n",
    "mpc.intialize_mpc(mpc_parameters=mpc_parameters)\n",
    "\n",
    "# Set desired quantities\n",
    "mpc.configure(s_init=s_des, H_b_init=H_b)\n",
    "TSID_controller_instance.compute_com_position()\n",
    "mpc.define_test_com_traj(TSID_controller_instance.COM.toNumPy())\n",
    "\n",
    "# Set initial robot state  and plan trajectories\n",
    "jax_instance.step()\n",
    "\n",
    "# Reading the state\n",
    "s, ds, tau = jax_instance.get_state()\n",
    "H_b = jax_instance.get_base()\n",
    "w_b = jax_instance.get_base_velocity()\n",
    "t = 0.0\n",
    "\n",
    "# MPC\n",
    "mpc.set_state_with_base(s=s, s_dot=ds, H_b=H_b, w_b=w_b, t=t)\n",
    "mpc.initialize_centroidal_integrator(s=s, s_dot=ds, H_b=H_b, w_b=w_b, t=t)\n",
    "mpc_output = mpc.plan_trajectory()\n"
   ]
  },
  {
   "cell_type": "code",
   "execution_count": 11,
   "metadata": {},
   "outputs": [],
   "source": [
    "mj_list = [\n",
    "    \"r_shoulder_pitch\", #0\n",
    "    \"r_shoulder_roll\", #1\n",
    "    \"r_shoulder_yaw\", #2\n",
    "    \"r_elbow\", #3\n",
    "    \"l_shoulder_pitch\", #4\n",
    "    \"l_shoulder_roll\", #5\n",
    "    \"l_shoulder_yaw\", #6\n",
    "    \"l_elbow\", #7\n",
    "    \"r_hip_pitch\", #8\n",
    "    \"r_hip_roll\", #9\n",
    "    \"r_hip_yaw\", #10\n",
    "    \"r_knee\", #11\n",
    "    \"r_ankle_pitch\", #12\n",
    "    \"r_ankle_roll\",#13\n",
    "    \"l_hip_pitch\",#14\n",
    "    \"l_hip_roll\",#15\n",
    "    \"l_hip_yaw\",#16\n",
    "    \"l_knee\",#17\n",
    "    \"l_ankle_pitch\",#18\n",
    "    \"l_ankle_roll\",#19\n",
    "]\n",
    "get_joint_map = lambda from_, to: np.array(list(map(to.index, from_)))\n",
    "joint_map = get_joint_map(mj_list,jax_instance.model.joint_names())\n",
    "assert all(np.array(mj_list) == np.array(joint_name_list)[joint_map])"
   ]
  },
  {
   "cell_type": "code",
   "execution_count": 12,
   "metadata": {},
   "outputs": [
    {
     "name": "stdout",
     "output_type": "stream",
     "text": [
      "10.0\n"
     ]
    }
   ],
   "source": [
    "# Set loop variables\n",
    "TIME_TH = 20\n",
    "\n",
    "# Define number of steps\n",
    "n_step = int(TSID_controller_instance.frequency / jax_instance.dt)\n",
    "n_step_mpc_tsid = int(mpc.get_frequency_seconds() / TSID_controller_instance.frequency)/10\n",
    "print(n_step_mpc_tsid)\n",
    "counter = 0\n",
    "mpc_success = True\n",
    "energy_tot = 0.0\n",
    "succeded_controller = True\n",
    "ref_state, com_state = [], []"
   ]
  },
  {
   "cell_type": "code",
   "execution_count": 13,
   "metadata": {},
   "outputs": [],
   "source": [
    "mpc_reference, reference = [], []"
   ]
  },
  {
   "cell_type": "code",
   "execution_count": 14,
   "metadata": {},
   "outputs": [],
   "source": [
    "# viewer: iDynTreeVisualizer = iDynTreeVisualizer(model_name=\"stickBot\")\n",
    "# viewer.prepare_visualization()\n",
    "# viewer.add_model(robot_model=robot_model_init, urdf_path = urdf_robot_string)\n",
    "# viewer.update_model(s=s, H_b=H_b)\n",
    "# viewer.visualize()"
   ]
  },
  {
   "cell_type": "code",
   "execution_count": 15,
   "metadata": {},
   "outputs": [],
   "source": [
    "import jaxsim.api as js\n",
    "total_mass = js.model.total_mass(jax_instance.model)"
   ]
  },
  {
   "cell_type": "code",
   "execution_count": 16,
   "metadata": {},
   "outputs": [],
   "source": [
    "# import manifpy as manif\n",
    "# s_init = s\n",
    "# ds_init = np.zeros(robot_model_init.NDoF)\n",
    "# H_b_init = H_b\n",
    "# w_b_init = np.zeros(6)\n",
    "# com_init = TSID_controller_instance.COM.toNumPy()\n",
    "# forces_left = np.zeros(3)\n",
    "# forces_left[2] = total_mass * 9.81 / 2\n",
    "# forces_right = np.zeros(3)\n",
    "# forces_right[2] = total_mass * 9.81 / 2\n",
    "# H_left_foot = robot_model_init.H_left_foot(H_b_init, s_init)\n",
    "# H_rigth_foot = robot_model_init.H_right_foot(H_b_init, s_init)\n",
    "# quaternion = [0.0, 0.0, 0.0, 1.0]\n",
    "# leftPosition_casadi = np.array(H_left_foot[:3, 3])\n",
    "# leftPosition = np.zeros(3)\n",
    "# leftPosition[0] = float(leftPosition_casadi[0])\n",
    "# leftPosition[1] = float(leftPosition_casadi[1])\n",
    "# leftPosition[2] = float(leftPosition_casadi[2])\n",
    "# leftPosition[2] = 0.0\n",
    "# contact_left = manif.SE3(position=leftPosition, quaternion=quaternion)\n",
    "# rightPosition = np.zeros(3)\n",
    "# rightPosition_casadi = np.array(H_rigth_foot[:3, 3])\n",
    "# rightPosition[0] = float(rightPosition_casadi[0])\n",
    "# rightPosition[1] = float(rightPosition_casadi[1])\n",
    "# rightPosition[2] = float(rightPosition_casadi[2])\n",
    "# rightPosition[2] = 0.0\n",
    "# contact_right = manif.SE3(position=rightPosition, quaternion=quaternion)\n",
    "\n",
    "# TSID_controller_instance.update_task_references_mpc_balancing(\n",
    "#     com=TSID_controller_instance.COM.toNumPy(),\n",
    "#     dcom=np.zeros(3),\n",
    "#     ddcom=np.zeros(3),\n",
    "#     left_foot_desired=contact_left,\n",
    "#     right_foot_desired=contact_right,\n",
    "#     s_desired=s_init ,\n",
    "#     wrenches_left=forces_left,\n",
    "#     wrenches_right=forces_right,\n",
    "# )\n",
    "\n",
    "# succeded_controller = TSID_controller_instance.run()\n",
    "\n",
    "# # if not (succeded_controller):\n",
    "# #     print(\"Controller failed\")\n",
    "# #     break\n",
    "\n",
    "# tau_ctrl = TSID_controller_instance.get_torque()\n"
   ]
  },
  {
   "cell_type": "code",
   "execution_count": 17,
   "metadata": {},
   "outputs": [
    {
     "name": "stderr",
     "output_type": "stream",
     "text": [
      "[ERROR] [2024-03-29 10:58:39.885] [thread: 1710340] [blf] [QPTSID::advance] osqp was not able to find a feasible solution.\n",
      "[ERROR] [2024-03-29 10:58:40.040] [thread: 1710340] [blf] [QPTSID::advance] osqp was not able to find a feasible solution.\n",
      "[ERROR] [2024-03-29 10:58:40.107] [thread: 1710340] [blf] [QPTSID::advance] osqp was not able to find a feasible solution.\n",
      "[ERROR] [2024-03-29 10:58:40.165] [thread: 1710340] [blf] [QPTSID::advance] osqp was not able to find a feasible solution.\n",
      "[ERROR] [2024-03-29 10:58:40.210] [thread: 1710340] [blf] [QPTSID::advance] osqp was not able to find a feasible solution.\n"
     ]
    },
    {
     "name": "stdout",
     "output_type": "stream",
     "text": [
      "Controller failed\n",
      "[DEBUG] [2024-03-29 10:58:40.255] [thread: 1710340] [blf] [QPTSID::advance] The solver found an inaccurate feasible solution.\n"
     ]
    },
    {
     "name": "stderr",
     "output_type": "stream",
     "text": [
      "[ERROR] [2024-03-29 10:58:40.964] [thread: 1710340] [blf] [QPTSID::advance] osqp was not able to find a feasible solution.\n",
      "[ERROR] [2024-03-29 10:58:41.109] [thread: 1710340] [blf] [QPTSID::advance] osqp was not able to find a feasible solution.\n",
      "[ERROR] [2024-03-29 10:58:41.187] [thread: 1710340] [blf] [QPTSID::advance] osqp was not able to find a feasible solution.\n",
      "[ERROR] [2024-03-29 10:58:41.242] [thread: 1710340] [blf] [QPTSID::advance] osqp was not able to find a feasible solution.\n",
      "[ERROR] [2024-03-29 10:58:41.298] [thread: 1710340] [blf] [QPTSID::advance] osqp was not able to find a feasible solution.\n",
      "[ERROR] [2024-03-29 10:58:41.343] [thread: 1710340] [blf] [QPTSID::advance] osqp was not able to find a feasible solution.\n",
      "[ERROR] [2024-03-29 10:58:41.387] [thread: 1710340] [blf] [QPTSID::advance] osqp was not able to find a feasible solution.\n"
     ]
    },
    {
     "name": "stdout",
     "output_type": "stream",
     "text": [
      "Controller failed\n",
      "Controller failed\n",
      "Controller failed\n",
      "Controller failed\n"
     ]
    },
    {
     "name": "stderr",
     "output_type": "stream",
     "text": [
      "[ERROR] [2024-03-29 10:58:41.433] [thread: 1710340] [blf] [QPTSID::advance] osqp was not able to find a feasible solution.\n",
      "[ERROR] [2024-03-29 10:58:41.557] [thread: 1710340] [blf] [QPTSID::advance] osqp was not able to find a feasible solution.\n",
      "[ERROR] [2024-03-29 10:58:41.625] [thread: 1710340] [blf] [QPTSID::advance] osqp was not able to find a feasible solution.\n"
     ]
    },
    {
     "name": "stdout",
     "output_type": "stream",
     "text": [
      "Controller failed\n",
      "Controller failed\n"
     ]
    },
    {
     "name": "stderr",
     "output_type": "stream",
     "text": [
      "[ERROR] [2024-03-29 10:58:45.848] [thread: 1710340] [blf] [QPTSID::advance] osqp was not able to find a feasible solution.\n",
      "[ERROR] [2024-03-29 10:58:46.252] [thread: 1710340] [blf] [QPTSID::advance] osqp was not able to find a feasible solution.\n",
      "[ERROR] [2024-03-29 10:58:46.342] [thread: 1710340] [blf] [QPTSID::advance] osqp was not able to find a feasible solution.\n",
      "[ERROR] [2024-03-29 10:58:46.420] [thread: 1710340] [blf] [QPTSID::advance] osqp was not able to find a feasible solution.\n"
     ]
    },
    {
     "name": "stdout",
     "output_type": "stream",
     "text": [
      "Controller failed\n"
     ]
    },
    {
     "name": "stderr",
     "output_type": "stream",
     "text": [
      "[ERROR] [2024-03-29 10:58:46.487] [thread: 1710340] [blf] [QPTSID::advance] osqp was not able to find a feasible solution.\n"
     ]
    },
    {
     "name": "stdout",
     "output_type": "stream",
     "text": [
      "Controller failed\n",
      "Controller failed\n"
     ]
    },
    {
     "name": "stderr",
     "output_type": "stream",
     "text": [
      "[ERROR] [2024-03-29 10:58:46.712] [thread: 1710340] [blf] [QPTSID::advance] osqp was not able to find a feasible solution.\n",
      "[ERROR] [2024-03-29 10:58:46.870] [thread: 1710340] [blf] [QPTSID::advance] osqp was not able to find a feasible solution.\n"
     ]
    },
    {
     "name": "stdout",
     "output_type": "stream",
     "text": [
      "Controller failed\n"
     ]
    },
    {
     "name": "stderr",
     "output_type": "stream",
     "text": [
      "[ERROR] [2024-03-29 10:58:46.993] [thread: 1710340] [blf] [QPTSID::advance] osqp was not able to find a feasible solution.\n"
     ]
    },
    {
     "name": "stdout",
     "output_type": "stream",
     "text": [
      "Controller failed\n",
      "Controller failed\n",
      "Controller failed\n",
      "Controller failed\n"
     ]
    },
    {
     "name": "stderr",
     "output_type": "stream",
     "text": [
      "[ERROR] [2024-03-29 10:58:47.231] [thread: 1710340] [blf] [QPTSID::advance] osqp was not able to find a feasible solution.\n",
      "[ERROR] [2024-03-29 10:58:47.288] [thread: 1710340] [blf] [QPTSID::advance] osqp was not able to find a feasible solution.\n",
      "[ERROR] [2024-03-29 10:58:47.344] [thread: 1710340] [blf] [QPTSID::advance] osqp was not able to find a feasible solution.\n",
      "[ERROR] [2024-03-29 10:58:47.388] [thread: 1710340] [blf] [QPTSID::advance] osqp was not able to find a feasible solution.\n"
     ]
    },
    {
     "name": "stdout",
     "output_type": "stream",
     "text": [
      "Controller failed\n",
      "Controller failed\n",
      "Controller failed\n"
     ]
    },
    {
     "name": "stderr",
     "output_type": "stream",
     "text": [
      "[ERROR] [2024-03-29 10:58:47.532] [thread: 1710340] [blf] [QPTSID::advance] osqp was not able to find a feasible solution.\n",
      "[ERROR] [2024-03-29 10:58:47.588] [thread: 1710340] [blf] [QPTSID::advance] osqp was not able to find a feasible solution.\n",
      "[ERROR] [2024-03-29 10:58:47.722] [thread: 1710340] [blf] [QPTSID::advance] osqp was not able to find a feasible solution.\n"
     ]
    },
    {
     "name": "stdout",
     "output_type": "stream",
     "text": [
      "Controller failed\n",
      "Controller failed\n",
      "Controller failed\n"
     ]
    },
    {
     "name": "stderr",
     "output_type": "stream",
     "text": [
      "[ERROR] [2024-03-29 10:58:47.778] [thread: 1710340] [blf] [QPTSID::advance] osqp was not able to find a feasible solution.\n",
      "[ERROR] [2024-03-29 10:58:47.833] [thread: 1710340] [blf] [QPTSID::advance] osqp was not able to find a feasible solution.\n",
      "[ERROR] [2024-03-29 10:58:47.888] [thread: 1710340] [blf] [QPTSID::advance] osqp was not able to find a feasible solution.\n"
     ]
    },
    {
     "name": "stdout",
     "output_type": "stream",
     "text": [
      "Controller failed\n",
      "Controller failed\n",
      "Controller failed\n"
     ]
    },
    {
     "name": "stderr",
     "output_type": "stream",
     "text": [
      "[ERROR] [2024-03-29 10:58:48.120] [thread: 1710340] [blf] [QPTSID::advance] osqp was not able to find a feasible solution.\n",
      "[ERROR] [2024-03-29 10:58:48.176] [thread: 1710340] [blf] [QPTSID::advance] osqp was not able to find a feasible solution.\n",
      "[ERROR] [2024-03-29 10:58:48.230] [thread: 1710340] [blf] [QPTSID::advance] osqp was not able to find a feasible solution.\n"
     ]
    },
    {
     "name": "stdout",
     "output_type": "stream",
     "text": [
      "Controller failed\n",
      "Controller failed\n",
      "Controller failed\n"
     ]
    },
    {
     "name": "stderr",
     "output_type": "stream",
     "text": [
      "[ERROR] [2024-03-29 10:58:48.353] [thread: 1710340] [blf] [QPTSID::advance] osqp was not able to find a feasible solution.\n",
      "[ERROR] [2024-03-29 10:58:48.497] [thread: 1710340] [blf] [QPTSID::advance] osqp was not able to find a feasible solution.\n",
      "[ERROR] [2024-03-29 10:58:48.552] [thread: 1710340] [blf] [QPTSID::advance] osqp was not able to find a feasible solution.\n"
     ]
    },
    {
     "name": "stdout",
     "output_type": "stream",
     "text": [
      "Controller failed\n",
      "Controller failed\n"
     ]
    },
    {
     "name": "stderr",
     "output_type": "stream",
     "text": [
      "[ERROR] [2024-03-29 10:58:48.676] [thread: 1710340] [blf] [QPTSID::advance] osqp was not able to find a feasible solution.\n",
      "[ERROR] [2024-03-29 10:58:48.811] [thread: 1710340] [blf] [QPTSID::advance] osqp was not able to find a feasible solution.\n"
     ]
    },
    {
     "name": "stdout",
     "output_type": "stream",
     "text": [
      "Controller failed\n",
      "Controller failed\n"
     ]
    },
    {
     "name": "stderr",
     "output_type": "stream",
     "text": [
      "[ERROR] [2024-03-29 10:58:48.968] [thread: 1710340] [blf] [QPTSID::advance] osqp was not able to find a feasible solution.\n",
      "[ERROR] [2024-03-29 10:58:49.128] [thread: 1710340] [blf] [QPTSID::advance] osqp was not able to find a feasible solution.\n"
     ]
    },
    {
     "name": "stdout",
     "output_type": "stream",
     "text": [
      "Controller failed\n",
      "Controller failed\n",
      "Controller failed\n"
     ]
    },
    {
     "name": "stderr",
     "output_type": "stream",
     "text": [
      "[ERROR] [2024-03-29 10:58:49.386] [thread: 1710340] [blf] [QPTSID::advance] osqp was not able to find a feasible solution.\n",
      "[ERROR] [2024-03-29 10:58:49.453] [thread: 1710340] [blf] [QPTSID::advance] osqp was not able to find a feasible solution.\n",
      "[ERROR] [2024-03-29 10:58:49.510] [thread: 1710340] [blf] [QPTSID::advance] osqp was not able to find a feasible solution.\n",
      "[ERROR] [2024-03-29 10:58:50.079] [thread: 1710340] [blf] [QPTSID::advance] osqp was not able to find a feasible solution.\n"
     ]
    },
    {
     "name": "stdout",
     "output_type": "stream",
     "text": [
      "[DEBUG] [2024-03-29 10:58:50.235] [thread: 1710340] [blf] [QPTSID::advance] The solver found an inaccurate feasible solution.\n"
     ]
    },
    {
     "name": "stderr",
     "output_type": "stream",
     "text": [
      "[ERROR] [2024-03-29 10:58:50.552] [thread: 1710340] [blf] [QPTSID::advance] osqp was not able to find a feasible solution.\n",
      "[ERROR] [2024-03-29 10:58:50.653] [thread: 1710340] [blf] [QPTSID::advance] osqp was not able to find a feasible solution.\n",
      "[ERROR] [2024-03-29 10:58:50.709] [thread: 1710340] [blf] [QPTSID::advance] osqp was not able to find a feasible solution.\n",
      "[ERROR] [2024-03-29 10:58:50.765] [thread: 1710340] [blf] [QPTSID::advance] osqp was not able to find a feasible solution.\n"
     ]
    },
    {
     "name": "stdout",
     "output_type": "stream",
     "text": [
      "Controller failed\n",
      "Controller failed\n",
      "Controller failed\n",
      "Controller failed\n",
      "Controller failed\n"
     ]
    },
    {
     "name": "stderr",
     "output_type": "stream",
     "text": [
      "[ERROR] [2024-03-29 10:58:50.821] [thread: 1710340] [blf] [QPTSID::advance] osqp was not able to find a feasible solution.\n",
      "[ERROR] [2024-03-29 10:58:50.866] [thread: 1710340] [blf] [QPTSID::advance] osqp was not able to find a feasible solution.\n",
      "[ERROR] [2024-03-29 10:58:50.911] [thread: 1710340] [blf] [QPTSID::advance] osqp was not able to find a feasible solution.\n",
      "[ERROR] [2024-03-29 10:58:50.956] [thread: 1710340] [blf] [QPTSID::advance] osqp was not able to find a feasible solution.\n",
      "[ERROR] [2024-03-29 10:58:51.001] [thread: 1710340] [blf] [QPTSID::advance] osqp was not able to find a feasible solution.\n"
     ]
    },
    {
     "name": "stdout",
     "output_type": "stream",
     "text": [
      "Controller failed\n"
     ]
    },
    {
     "name": "stderr",
     "output_type": "stream",
     "text": [
      "[ERROR] [2024-03-29 10:58:51.052] [thread: 1710340] [blf] [QPTSID::advance] osqp was not able to find a feasible solution.\n",
      "[ERROR] [2024-03-29 10:58:51.330] [thread: 1710340] [blf] [QPTSID::advance] osqp was not able to find a feasible solution.\n",
      "[ERROR] [2024-03-29 10:58:51.376] [thread: 1710340] [blf] [QPTSID::advance] osqp was not able to find a feasible solution.\n",
      "[ERROR] [2024-03-29 10:58:51.419] [thread: 1710340] [blf] [QPTSID::advance] osqp was not able to find a feasible solution.\n",
      "[ERROR] [2024-03-29 10:58:51.464] [thread: 1710340] [blf] [QPTSID::advance] osqp was not able to find a feasible solution.\n",
      "[ERROR] [2024-03-29 10:58:51.508] [thread: 1710340] [blf] [QPTSID::advance] osqp was not able to find a feasible solution.\n"
     ]
    },
    {
     "name": "stdout",
     "output_type": "stream",
     "text": [
      "Controller failed\n",
      "Controller failed\n",
      "Controller failed\n",
      "Controller failed\n",
      "Controller failed\n",
      "Controller failed\n",
      "Controller failed\n",
      "Controller failed\n",
      "Controller failed\n"
     ]
    },
    {
     "name": "stderr",
     "output_type": "stream",
     "text": [
      "[ERROR] [2024-03-29 10:58:51.553] [thread: 1710340] [blf] [QPTSID::advance] osqp was not able to find a feasible solution.\n",
      "[ERROR] [2024-03-29 10:58:51.598] [thread: 1710340] [blf] [QPTSID::advance] osqp was not able to find a feasible solution.\n",
      "[ERROR] [2024-03-29 10:58:51.643] [thread: 1710340] [blf] [QPTSID::advance] osqp was not able to find a feasible solution.\n",
      "[ERROR] [2024-03-29 10:58:51.757] [thread: 1710340] [blf] [QPTSID::advance] osqp was not able to find a feasible solution.\n",
      "[ERROR] [2024-03-29 10:58:51.805] [thread: 1710340] [blf] [QPTSID::advance] osqp was not able to find a feasible solution.\n"
     ]
    },
    {
     "name": "stdout",
     "output_type": "stream",
     "text": [
      "Controller failed\n"
     ]
    },
    {
     "name": "stderr",
     "output_type": "stream",
     "text": [
      "[ERROR] [2024-03-29 10:58:52.049] [thread: 1710340] [blf] [QPTSID::advance] osqp was not able to find a feasible solution.\n",
      "[ERROR] [2024-03-29 10:58:52.094] [thread: 1710340] [blf] [QPTSID::advance] osqp was not able to find a feasible solution.\n",
      "[ERROR] [2024-03-29 10:58:52.140] [thread: 1710340] [blf] [QPTSID::advance] osqp was not able to find a feasible solution.\n",
      "[ERROR] [2024-03-29 10:58:52.184] [thread: 1710340] [blf] [QPTSID::advance] osqp was not able to find a feasible solution.\n"
     ]
    },
    {
     "name": "stdout",
     "output_type": "stream",
     "text": [
      "Controller failed\n",
      "Controller failed\n",
      "Controller failed\n",
      "Controller failed\n",
      "Controller failed\n",
      "Controller failed\n",
      "Controller failed\n"
     ]
    },
    {
     "name": "stderr",
     "output_type": "stream",
     "text": [
      "[ERROR] [2024-03-29 10:58:52.306] [thread: 1710340] [blf] [QPTSID::advance] osqp was not able to find a feasible solution.\n",
      "[ERROR] [2024-03-29 10:58:52.350] [thread: 1710340] [blf] [QPTSID::advance] osqp was not able to find a feasible solution.\n",
      "[ERROR] [2024-03-29 10:58:52.462] [thread: 1710340] [blf] [QPTSID::advance] osqp was not able to find a feasible solution.\n"
     ]
    },
    {
     "name": "stdout",
     "output_type": "stream",
     "text": [
      "Controller failed\n",
      "Controller failed\n",
      "Controller failed\n"
     ]
    },
    {
     "name": "stderr",
     "output_type": "stream",
     "text": [
      "[ERROR] [2024-03-29 10:58:52.575] [thread: 1710340] [blf] [QPTSID::advance] osqp was not able to find a feasible solution.\n",
      "[ERROR] [2024-03-29 10:58:52.710] [thread: 1710340] [blf] [QPTSID::advance] osqp was not able to find a feasible solution.\n",
      "[ERROR] [2024-03-29 10:58:52.765] [thread: 1710340] [blf] [QPTSID::advance] osqp was not able to find a feasible solution.\n"
     ]
    },
    {
     "name": "stdout",
     "output_type": "stream",
     "text": [
      "Controller failed\n",
      "Controller failed\n",
      "Controller failed\n",
      "Controller failed\n",
      "Controller failed\n"
     ]
    },
    {
     "name": "stderr",
     "output_type": "stream",
     "text": [
      "[ERROR] [2024-03-29 10:58:53.011] [thread: 1710340] [blf] [QPTSID::advance] osqp was not able to find a feasible solution.\n",
      "[ERROR] [2024-03-29 10:58:53.056] [thread: 1710340] [blf] [QPTSID::advance] osqp was not able to find a feasible solution.\n",
      "[ERROR] [2024-03-29 10:58:53.100] [thread: 1710340] [blf] [QPTSID::advance] osqp was not able to find a feasible solution.\n",
      "[ERROR] [2024-03-29 10:58:53.144] [thread: 1710340] [blf] [QPTSID::advance] osqp was not able to find a feasible solution.\n",
      "[ERROR] [2024-03-29 10:58:53.187] [thread: 1710340] [blf] [QPTSID::advance] osqp was not able to find a feasible solution.\n"
     ]
    },
    {
     "name": "stdout",
     "output_type": "stream",
     "text": [
      "Controller failed\n",
      "Controller failed\n",
      "Controller failed\n",
      "Controller failed\n",
      "Controller failed\n"
     ]
    },
    {
     "name": "stderr",
     "output_type": "stream",
     "text": [
      "[ERROR] [2024-03-29 10:58:53.233] [thread: 1710340] [blf] [QPTSID::advance] osqp was not able to find a feasible solution.\n",
      "[ERROR] [2024-03-29 10:58:53.277] [thread: 1710340] [blf] [QPTSID::advance] osqp was not able to find a feasible solution.\n",
      "[ERROR] [2024-03-29 10:58:53.321] [thread: 1710340] [blf] [QPTSID::advance] osqp was not able to find a feasible solution.\n",
      "[ERROR] [2024-03-29 10:58:53.366] [thread: 1710340] [blf] [QPTSID::advance] osqp was not able to find a feasible solution.\n",
      "[ERROR] [2024-03-29 10:58:53.410] [thread: 1710340] [blf] [QPTSID::advance] osqp was not able to find a feasible solution.\n"
     ]
    },
    {
     "name": "stdout",
     "output_type": "stream",
     "text": [
      "Controller failed\n",
      "Controller failed\n",
      "Controller failed\n",
      "Controller failed\n",
      "Controller failed\n"
     ]
    },
    {
     "name": "stderr",
     "output_type": "stream",
     "text": [
      "[ERROR] [2024-03-29 10:58:53.654] [thread: 1710340] [blf] [QPTSID::advance] osqp was not able to find a feasible solution.\n",
      "[ERROR] [2024-03-29 10:58:53.700] [thread: 1710340] [blf] [QPTSID::advance] osqp was not able to find a feasible solution.\n",
      "[ERROR] [2024-03-29 10:58:53.744] [thread: 1710340] [blf] [QPTSID::advance] osqp was not able to find a feasible solution.\n",
      "[ERROR] [2024-03-29 10:58:53.788] [thread: 1710340] [blf] [QPTSID::advance] osqp was not able to find a feasible solution.\n",
      "[ERROR] [2024-03-29 10:58:53.833] [thread: 1710340] [blf] [QPTSID::advance] osqp was not able to find a feasible solution.\n"
     ]
    },
    {
     "name": "stdout",
     "output_type": "stream",
     "text": [
      "Controller failed\n",
      "Controller failed\n",
      "Controller failed\n",
      "Controller failed\n",
      "Controller failed\n"
     ]
    },
    {
     "name": "stderr",
     "output_type": "stream",
     "text": [
      "[ERROR] [2024-03-29 10:58:53.878] [thread: 1710340] [blf] [QPTSID::advance] osqp was not able to find a feasible solution.\n",
      "[ERROR] [2024-03-29 10:58:53.921] [thread: 1710340] [blf] [QPTSID::advance] osqp was not able to find a feasible solution.\n",
      "[ERROR] [2024-03-29 10:58:53.965] [thread: 1710340] [blf] [QPTSID::advance] osqp was not able to find a feasible solution.\n",
      "[ERROR] [2024-03-29 10:58:54.009] [thread: 1710340] [blf] [QPTSID::advance] osqp was not able to find a feasible solution.\n",
      "[ERROR] [2024-03-29 10:58:54.052] [thread: 1710340] [blf] [QPTSID::advance] osqp was not able to find a feasible solution.\n"
     ]
    },
    {
     "name": "stdout",
     "output_type": "stream",
     "text": [
      "Controller failed\n",
      "Controller failed\n",
      "Controller failed\n",
      "Controller failed\n",
      "Controller failed\n",
      "Controller failed\n",
      "Controller failed\n"
     ]
    },
    {
     "name": "stderr",
     "output_type": "stream",
     "text": [
      "[ERROR] [2024-03-29 10:58:54.254] [thread: 1710340] [blf] [QPTSID::advance] osqp was not able to find a feasible solution.\n",
      "[ERROR] [2024-03-29 10:58:54.287] [thread: 1710340] [blf] [QPTSID::advance] osqp was not able to find a feasible solution.\n",
      "[ERROR] [2024-03-29 10:58:54.319] [thread: 1710340] [blf] [QPTSID::advance] osqp was not able to find a feasible solution.\n",
      "[ERROR] [2024-03-29 10:58:54.352] [thread: 1710340] [blf] [QPTSID::advance] osqp was not able to find a feasible solution.\n",
      "[ERROR] [2024-03-29 10:58:54.386] [thread: 1710340] [blf] [QPTSID::advance] osqp was not able to find a feasible solution.\n",
      "[ERROR] [2024-03-29 10:58:54.418] [thread: 1710340] [blf] [QPTSID::advance] osqp was not able to find a feasible solution.\n",
      "[ERROR] [2024-03-29 10:58:54.451] [thread: 1710340] [blf] [QPTSID::advance] osqp was not able to find a feasible solution.\n"
     ]
    },
    {
     "name": "stdout",
     "output_type": "stream",
     "text": [
      "Controller failed\n",
      "Controller failed\n",
      "Controller failed\n"
     ]
    },
    {
     "name": "stderr",
     "output_type": "stream",
     "text": [
      "[ERROR] [2024-03-29 10:58:54.485] [thread: 1710340] [blf] [QPTSID::advance] osqp was not able to find a feasible solution.\n",
      "[ERROR] [2024-03-29 10:58:54.519] [thread: 1710340] [blf] [QPTSID::advance] osqp was not able to find a feasible solution.\n",
      "[ERROR] [2024-03-29 10:58:54.552] [thread: 1710340] [blf] [QPTSID::advance] osqp was not able to find a feasible solution.\n",
      "[ERROR] [2024-03-29 10:58:54.767] [thread: 1710340] [blf] [QPTSID::advance] osqp was not able to find a feasible solution.\n",
      "[ERROR] [2024-03-29 10:58:54.801] [thread: 1710340] [blf] [QPTSID::advance] osqp was not able to find a feasible solution.\n",
      "[ERROR] [2024-03-29 10:58:54.834] [thread: 1710340] [blf] [QPTSID::advance] osqp was not able to find a feasible solution.\n",
      "[ERROR] [2024-03-29 10:58:54.868] [thread: 1710340] [blf] [QPTSID::advance] osqp was not able to find a feasible solution.\n",
      "[ERROR] [2024-03-29 10:58:54.901] [thread: 1710340] [blf] [QPTSID::advance] osqp was not able to find a feasible solution.\n",
      "[ERROR] [2024-03-29 10:58:54.935] [thread: 1710340] [blf] [QPTSID::advance] osqp was not able to find a feasible solution.\n",
      "[ERROR] [2024-03-29 10:58:54.968] [thread: 1710340] [blf] [QPTSID::advance] osqp was not able to find a feasible solution.\n"
     ]
    },
    {
     "name": "stdout",
     "output_type": "stream",
     "text": [
      "Controller failed\n",
      "Controller failed\n",
      "Controller failed\n",
      "Controller failed\n",
      "Controller failed\n",
      "Controller failed\n",
      "Controller failed\n",
      "Controller failed\n",
      "[DEBUG] [2024-03-29 10:58:55.035] [thread: 1710340] [blf] [QPTSID::advance] The solver found an inaccurate feasible solution.\n"
     ]
    },
    {
     "name": "stderr",
     "output_type": "stream",
     "text": [
      "[ERROR] [2024-03-29 10:58:55.002] [thread: 1710340] [blf] [QPTSID::advance] osqp was not able to find a feasible solution.\n"
     ]
    },
    {
     "name": "stdout",
     "output_type": "stream",
     "text": [
      "[DEBUG] [2024-03-29 10:58:55.936] [thread: 1710340] [blf] [QPTSID::advance] The solver found an inaccurate feasible solution.\n"
     ]
    },
    {
     "name": "stderr",
     "output_type": "stream",
     "text": [
      "[ERROR] [2024-03-29 10:58:56.148] [thread: 1710340] [blf] [QPTSID::advance] osqp was not able to find a feasible solution.\n",
      "[ERROR] [2024-03-29 10:58:56.371] [thread: 1710340] [blf] [QPTSID::advance] osqp was not able to find a feasible solution.\n",
      "[ERROR] [2024-03-29 10:58:56.461] [thread: 1710340] [blf] [QPTSID::advance] osqp was not able to find a feasible solution.\n",
      "[ERROR] [2024-03-29 10:58:56.551] [thread: 1710340] [blf] [QPTSID::advance] osqp was not able to find a feasible solution.\n"
     ]
    },
    {
     "name": "stdout",
     "output_type": "stream",
     "text": [
      "Controller failed\n",
      "Controller failed\n"
     ]
    },
    {
     "name": "stderr",
     "output_type": "stream",
     "text": [
      "[ERROR] [2024-03-29 10:58:56.640] [thread: 1710340] [blf] [QPTSID::advance] osqp was not able to find a feasible solution.\n",
      "[ERROR] [2024-03-29 10:58:56.718] [thread: 1710340] [blf] [QPTSID::advance] osqp was not able to find a feasible solution.\n"
     ]
    },
    {
     "name": "stdout",
     "output_type": "stream",
     "text": [
      "Controller failed\n"
     ]
    },
    {
     "name": "stderr",
     "output_type": "stream",
     "text": [
      "[ERROR] [2024-03-29 10:58:56.874] [thread: 1710340] [blf] [QPTSID::advance] osqp was not able to find a feasible solution.\n"
     ]
    },
    {
     "name": "stdout",
     "output_type": "stream",
     "text": [
      "Controller failed\n",
      "Controller failed\n",
      "Controller failed\n"
     ]
    },
    {
     "name": "stderr",
     "output_type": "stream",
     "text": [
      "[ERROR] [2024-03-29 10:58:57.332] [thread: 1710340] [blf] [QPTSID::advance] osqp was not able to find a feasible solution.\n",
      "[ERROR] [2024-03-29 10:58:57.435] [thread: 1710340] [blf] [QPTSID::advance] osqp was not able to find a feasible solution.\n",
      "[ERROR] [2024-03-29 10:58:57.512] [thread: 1710340] [blf] [QPTSID::advance] osqp was not able to find a feasible solution.\n"
     ]
    },
    {
     "name": "stdout",
     "output_type": "stream",
     "text": [
      "Controller failed\n",
      "Controller failed\n"
     ]
    },
    {
     "name": "stderr",
     "output_type": "stream",
     "text": [
      "[ERROR] [2024-03-29 10:58:57.589] [thread: 1710340] [blf] [QPTSID::advance] osqp was not able to find a feasible solution.\n",
      "[ERROR] [2024-03-29 10:58:57.745] [thread: 1710340] [blf] [QPTSID::advance] osqp was not able to find a feasible solution.\n"
     ]
    },
    {
     "name": "stdout",
     "output_type": "stream",
     "text": [
      "Controller failed\n",
      "Controller failed\n",
      "Controller failed\n",
      "[DEBUG] [2024-03-29 10:58:58.005] [thread: 1710340] [blf] [QPTSID::advance] The solver found an inaccurate feasible solution.\n"
     ]
    },
    {
     "name": "stderr",
     "output_type": "stream",
     "text": [
      "[ERROR] [2024-03-29 10:58:57.812] [thread: 1710340] [blf] [QPTSID::advance] osqp was not able to find a feasible solution.\n",
      "[ERROR] [2024-03-29 10:58:57.869] [thread: 1710340] [blf] [QPTSID::advance] osqp was not able to find a feasible solution.\n",
      "[ERROR] [2024-03-29 10:58:57.937] [thread: 1710340] [blf] [QPTSID::advance] osqp was not able to find a feasible solution.\n",
      "[ERROR] [2024-03-29 10:58:59.482] [thread: 1710340] [blf] [QPTSID::advance] osqp was not able to find a feasible solution.\n",
      "[ERROR] [2024-03-29 10:58:59.860] [thread: 1710340] [blf] [QPTSID::advance] osqp was not able to find a feasible solution.\n",
      "[ERROR] [2024-03-29 10:58:59.962] [thread: 1710340] [blf] [QPTSID::advance] osqp was not able to find a feasible solution.\n",
      "[ERROR] [2024-03-29 10:59:00.431] [thread: 1710340] [blf] [QPTSID::advance] osqp was not able to find a feasible solution.\n"
     ]
    },
    {
     "name": "stdout",
     "output_type": "stream",
     "text": [
      "Controller failed\n"
     ]
    },
    {
     "name": "stderr",
     "output_type": "stream",
     "text": [
      "[ERROR] [2024-03-29 10:59:00.688] [thread: 1710340] [blf] [QPTSID::advance] osqp was not able to find a feasible solution.\n",
      "[ERROR] [2024-03-29 10:59:01.010] [thread: 1710340] [blf] [QPTSID::advance] osqp was not able to find a feasible solution.\n",
      "[ERROR] [2024-03-29 10:59:01.168] [thread: 1710340] [blf] [QPTSID::advance] osqp was not able to find a feasible solution.\n"
     ]
    },
    {
     "name": "stdout",
     "output_type": "stream",
     "text": [
      "Controller failed\n",
      "Controller failed\n",
      "Controller failed\n",
      "Controller failed\n"
     ]
    },
    {
     "name": "stderr",
     "output_type": "stream",
     "text": [
      "[ERROR] [2024-03-29 10:59:01.280] [thread: 1710340] [blf] [QPTSID::advance] osqp was not able to find a feasible solution.\n",
      "[ERROR] [2024-03-29 10:59:01.370] [thread: 1710340] [blf] [QPTSID::advance] osqp was not able to find a feasible solution.\n"
     ]
    },
    {
     "name": "stdout",
     "output_type": "stream",
     "text": [
      "Controller failed\n",
      "Controller failed\n"
     ]
    },
    {
     "name": "stderr",
     "output_type": "stream",
     "text": [
      "[ERROR] [2024-03-29 10:59:01.594] [thread: 1710340] [blf] [QPTSID::advance] osqp was not able to find a feasible solution.\n",
      "[ERROR] [2024-03-29 10:59:01.784] [thread: 1710340] [blf] [QPTSID::advance] osqp was not able to find a feasible solution.\n"
     ]
    },
    {
     "name": "stdout",
     "output_type": "stream",
     "text": [
      "Controller failed\n",
      "Controller failed\n",
      "Controller failed\n"
     ]
    },
    {
     "name": "stderr",
     "output_type": "stream",
     "text": [
      "[ERROR] [2024-03-29 10:59:01.951] [thread: 1710340] [blf] [QPTSID::advance] osqp was not able to find a feasible solution.\n",
      "[ERROR] [2024-03-29 10:59:02.030] [thread: 1710340] [blf] [QPTSID::advance] osqp was not able to find a feasible solution.\n",
      "[ERROR] [2024-03-29 10:59:02.096] [thread: 1710340] [blf] [QPTSID::advance] osqp was not able to find a feasible solution.\n"
     ]
    },
    {
     "name": "stdout",
     "output_type": "stream",
     "text": [
      "Controller failed\n"
     ]
    },
    {
     "name": "stderr",
     "output_type": "stream",
     "text": [
      "[ERROR] [2024-03-29 10:59:02.253] [thread: 1710340] [blf] [QPTSID::advance] osqp was not able to find a feasible solution.\n",
      "[ERROR] [2024-03-29 10:59:02.477] [thread: 1710340] [blf] [QPTSID::advance] osqp was not able to find a feasible solution.\n",
      "[ERROR] [2024-03-29 10:59:02.533] [thread: 1710340] [blf] [QPTSID::advance] osqp was not able to find a feasible solution.\n",
      "[ERROR] [2024-03-29 10:59:02.590] [thread: 1710340] [blf] [QPTSID::advance] osqp was not able to find a feasible solution.\n",
      "[ERROR] [2024-03-29 10:59:02.644] [thread: 1710340] [blf] [QPTSID::advance] osqp was not able to find a feasible solution.\n"
     ]
    },
    {
     "name": "stdout",
     "output_type": "stream",
     "text": [
      "Controller failed\n",
      "Controller failed\n",
      "Controller failed\n",
      "Controller failed\n",
      "Controller failed\n",
      "Controller failed\n",
      "Controller failed\n"
     ]
    },
    {
     "name": "stderr",
     "output_type": "stream",
     "text": [
      "[ERROR] [2024-03-29 10:59:02.756] [thread: 1710340] [blf] [QPTSID::advance] osqp was not able to find a feasible solution.\n",
      "[ERROR] [2024-03-29 10:59:02.891] [thread: 1710340] [blf] [QPTSID::advance] osqp was not able to find a feasible solution.\n",
      "[ERROR] [2024-03-29 10:59:02.946] [thread: 1710340] [blf] [QPTSID::advance] osqp was not able to find a feasible solution.\n"
     ]
    },
    {
     "name": "stdout",
     "output_type": "stream",
     "text": [
      "Controller failed\n",
      "Controller failed\n",
      "Controller failed\n"
     ]
    },
    {
     "name": "stderr",
     "output_type": "stream",
     "text": [
      "[ERROR] [2024-03-29 10:59:03.146] [thread: 1710340] [blf] [QPTSID::advance] osqp was not able to find a feasible solution.\n",
      "[ERROR] [2024-03-29 10:59:03.213] [thread: 1710340] [blf] [QPTSID::advance] osqp was not able to find a feasible solution.\n",
      "[ERROR] [2024-03-29 10:59:03.270] [thread: 1710340] [blf] [QPTSID::advance] osqp was not able to find a feasible solution.\n",
      "[ERROR] [2024-03-29 10:59:03.473] [thread: 1710340] [blf] [QPTSID::advance] osqp was not able to find a feasible solution.\n",
      "[ERROR] [2024-03-29 10:59:03.518] [thread: 1710340] [blf] [QPTSID::advance] osqp was not able to find a feasible solution.\n",
      "[ERROR] [2024-03-29 10:59:03.629] [thread: 1710340] [blf] [QPTSID::advance] osqp was not able to find a feasible solution.\n"
     ]
    },
    {
     "name": "stdout",
     "output_type": "stream",
     "text": [
      "Controller failed\n",
      "Controller failed\n",
      "Controller failed\n",
      "Controller failed\n",
      "Controller failed\n",
      "Controller failed\n"
     ]
    },
    {
     "name": "stderr",
     "output_type": "stream",
     "text": [
      "[ERROR] [2024-03-29 10:59:03.741] [thread: 1710340] [blf] [QPTSID::advance] osqp was not able to find a feasible solution.\n",
      "[ERROR] [2024-03-29 10:59:03.796] [thread: 1710340] [blf] [QPTSID::advance] osqp was not able to find a feasible solution.\n",
      "[ERROR] [2024-03-29 10:59:03.852] [thread: 1710340] [blf] [QPTSID::advance] osqp was not able to find a feasible solution.\n"
     ]
    },
    {
     "name": "stdout",
     "output_type": "stream",
     "text": [
      "Controller failed\n"
     ]
    },
    {
     "name": "stderr",
     "output_type": "stream",
     "text": [
      "[ERROR] [2024-03-29 10:59:04.032] [thread: 1710340] [blf] [QPTSID::advance] osqp was not able to find a feasible solution.\n"
     ]
    },
    {
     "name": "stdout",
     "output_type": "stream",
     "text": [
      "Controller failed\n",
      "Controller failed\n"
     ]
    },
    {
     "name": "stderr",
     "output_type": "stream",
     "text": [
      "[ERROR] [2024-03-29 10:59:04.290] [thread: 1710340] [blf] [QPTSID::advance] osqp was not able to find a feasible solution.\n",
      "[ERROR] [2024-03-29 10:59:04.379] [thread: 1710340] [blf] [QPTSID::advance] osqp was not able to find a feasible solution.\n"
     ]
    },
    {
     "name": "stdout",
     "output_type": "stream",
     "text": [
      "Controller failed\n"
     ]
    },
    {
     "name": "stderr",
     "output_type": "stream",
     "text": [
      "[ERROR] [2024-03-29 10:59:04.525] [thread: 1710340] [blf] [QPTSID::advance] osqp was not able to find a feasible solution.\n",
      "[ERROR] [2024-03-29 10:59:04.776] [thread: 1710340] [blf] [QPTSID::advance] osqp was not able to find a feasible solution.\n"
     ]
    },
    {
     "name": "stdout",
     "output_type": "stream",
     "text": [
      "Controller failed\n",
      "Controller failed\n",
      "Controller failed\n",
      "Controller failed\n",
      "Controller failed\n"
     ]
    },
    {
     "name": "stderr",
     "output_type": "stream",
     "text": [
      "[ERROR] [2024-03-29 10:59:05.000] [thread: 1710340] [blf] [QPTSID::advance] osqp was not able to find a feasible solution.\n",
      "[ERROR] [2024-03-29 10:59:05.078] [thread: 1710340] [blf] [QPTSID::advance] osqp was not able to find a feasible solution.\n",
      "[ERROR] [2024-03-29 10:59:05.145] [thread: 1710340] [blf] [QPTSID::advance] osqp was not able to find a feasible solution.\n",
      "[ERROR] [2024-03-29 10:59:05.201] [thread: 1710340] [blf] [QPTSID::advance] osqp was not able to find a feasible solution.\n"
     ]
    },
    {
     "name": "stdout",
     "output_type": "stream",
     "text": [
      "Controller failed\n",
      "Controller failed\n",
      "Controller failed\n",
      "Controller failed\n"
     ]
    },
    {
     "name": "stderr",
     "output_type": "stream",
     "text": [
      "[ERROR] [2024-03-29 10:59:05.261] [thread: 1710340] [blf] [QPTSID::advance] osqp was not able to find a feasible solution.\n",
      "[ERROR] [2024-03-29 10:59:05.307] [thread: 1710340] [blf] [QPTSID::advance] osqp was not able to find a feasible solution.\n",
      "[ERROR] [2024-03-29 10:59:05.420] [thread: 1710340] [blf] [QPTSID::advance] osqp was not able to find a feasible solution.\n",
      "[ERROR] [2024-03-29 10:59:05.465] [thread: 1710340] [blf] [QPTSID::advance] osqp was not able to find a feasible solution.\n"
     ]
    },
    {
     "name": "stdout",
     "output_type": "stream",
     "text": [
      "Controller failed\n"
     ]
    },
    {
     "name": "stderr",
     "output_type": "stream",
     "text": [
      "[ERROR] [2024-03-29 10:59:05.578] [thread: 1710340] [blf] [QPTSID::advance] osqp was not able to find a feasible solution.\n",
      "[ERROR] [2024-03-29 10:59:05.788] [thread: 1710340] [blf] [QPTSID::advance] osqp was not able to find a feasible solution.\n"
     ]
    },
    {
     "name": "stdout",
     "output_type": "stream",
     "text": [
      "Controller failed\n",
      "Controller failed\n",
      "Controller failed\n",
      "Controller failed\n",
      "Controller failed\n"
     ]
    },
    {
     "name": "stderr",
     "output_type": "stream",
     "text": [
      "[ERROR] [2024-03-29 10:59:05.833] [thread: 1710340] [blf] [QPTSID::advance] osqp was not able to find a feasible solution.\n",
      "[ERROR] [2024-03-29 10:59:05.878] [thread: 1710340] [blf] [QPTSID::advance] osqp was not able to find a feasible solution.\n",
      "[ERROR] [2024-03-29 10:59:05.923] [thread: 1710340] [blf] [QPTSID::advance] osqp was not able to find a feasible solution.\n",
      "[ERROR] [2024-03-29 10:59:05.967] [thread: 1710340] [blf] [QPTSID::advance] osqp was not able to find a feasible solution.\n",
      "[ERROR] [2024-03-29 10:59:06.013] [thread: 1710340] [blf] [QPTSID::advance] osqp was not able to find a feasible solution.\n"
     ]
    },
    {
     "name": "stdout",
     "output_type": "stream",
     "text": [
      "Controller failed\n",
      "Controller failed\n",
      "Controller failed\n",
      "Controller failed\n"
     ]
    },
    {
     "name": "stderr",
     "output_type": "stream",
     "text": [
      "[ERROR] [2024-03-29 10:59:06.127] [thread: 1710340] [blf] [QPTSID::advance] osqp was not able to find a feasible solution.\n",
      "[ERROR] [2024-03-29 10:59:06.171] [thread: 1710340] [blf] [QPTSID::advance] osqp was not able to find a feasible solution.\n",
      "[ERROR] [2024-03-29 10:59:06.216] [thread: 1710340] [blf] [QPTSID::advance] osqp was not able to find a feasible solution.\n",
      "[ERROR] [2024-03-29 10:59:06.262] [thread: 1710340] [blf] [QPTSID::advance] osqp was not able to find a feasible solution.\n"
     ]
    },
    {
     "name": "stdout",
     "output_type": "stream",
     "text": [
      "Controller failed\n"
     ]
    },
    {
     "name": "stderr",
     "output_type": "stream",
     "text": [
      "[ERROR] [2024-03-29 10:59:06.511] [thread: 1710340] [blf] [QPTSID::advance] osqp was not able to find a feasible solution.\n",
      "[ERROR] [2024-03-29 10:59:06.555] [thread: 1710340] [blf] [QPTSID::advance] osqp was not able to find a feasible solution.\n",
      "[ERROR] [2024-03-29 10:59:06.599] [thread: 1710340] [blf] [QPTSID::advance] osqp was not able to find a feasible solution.\n",
      "[ERROR] [2024-03-29 10:59:06.645] [thread: 1710340] [blf] [QPTSID::advance] osqp was not able to find a feasible solution.\n",
      "[ERROR] [2024-03-29 10:59:06.689] [thread: 1710340] [blf] [QPTSID::advance] osqp was not able to find a feasible solution.\n"
     ]
    },
    {
     "name": "stdout",
     "output_type": "stream",
     "text": [
      "Controller failed\n",
      "Controller failed\n",
      "Controller failed\n",
      "Controller failed\n",
      "Controller failed\n",
      "Controller failed\n",
      "Controller failed\n",
      "Controller failed\n",
      "Controller failed\n",
      "Controller failed\n"
     ]
    },
    {
     "name": "stderr",
     "output_type": "stream",
     "text": [
      "[ERROR] [2024-03-29 10:59:06.733] [thread: 1710340] [blf] [QPTSID::advance] osqp was not able to find a feasible solution.\n",
      "[ERROR] [2024-03-29 10:59:06.778] [thread: 1710340] [blf] [QPTSID::advance] osqp was not able to find a feasible solution.\n",
      "[ERROR] [2024-03-29 10:59:06.823] [thread: 1710340] [blf] [QPTSID::advance] osqp was not able to find a feasible solution.\n",
      "[ERROR] [2024-03-29 10:59:06.866] [thread: 1710340] [blf] [QPTSID::advance] osqp was not able to find a feasible solution.\n",
      "[ERROR] [2024-03-29 10:59:06.910] [thread: 1710340] [blf] [QPTSID::advance] osqp was not able to find a feasible solution.\n"
     ]
    },
    {
     "name": "stdout",
     "output_type": "stream",
     "text": [
      "Controller failed\n",
      "Controller failed\n",
      "Controller failed\n",
      "Controller failed\n",
      "Controller failed\n"
     ]
    },
    {
     "name": "stderr",
     "output_type": "stream",
     "text": [
      "[ERROR] [2024-03-29 10:59:07.222] [thread: 1710340] [blf] [QPTSID::advance] osqp was not able to find a feasible solution.\n",
      "[ERROR] [2024-03-29 10:59:07.267] [thread: 1710340] [blf] [QPTSID::advance] osqp was not able to find a feasible solution.\n",
      "[ERROR] [2024-03-29 10:59:07.312] [thread: 1710340] [blf] [QPTSID::advance] osqp was not able to find a feasible solution.\n",
      "[ERROR] [2024-03-29 10:59:07.356] [thread: 1710340] [blf] [QPTSID::advance] osqp was not able to find a feasible solution.\n",
      "[ERROR] [2024-03-29 10:59:07.400] [thread: 1710340] [blf] [QPTSID::advance] osqp was not able to find a feasible solution.\n"
     ]
    },
    {
     "name": "stdout",
     "output_type": "stream",
     "text": [
      "Controller failed\n",
      "Controller failed\n",
      "Controller failed\n",
      "Controller failed\n",
      "Controller failed\n"
     ]
    },
    {
     "name": "stderr",
     "output_type": "stream",
     "text": [
      "[ERROR] [2024-03-29 10:59:07.500] [thread: 1710340] [blf] [QPTSID::advance] osqp was not able to find a feasible solution.\n",
      "[ERROR] [2024-03-29 10:59:07.545] [thread: 1710340] [blf] [QPTSID::advance] osqp was not able to find a feasible solution.\n",
      "[ERROR] [2024-03-29 10:59:07.589] [thread: 1710340] [blf] [QPTSID::advance] osqp was not able to find a feasible solution.\n",
      "[ERROR] [2024-03-29 10:59:07.633] [thread: 1710340] [blf] [QPTSID::advance] osqp was not able to find a feasible solution.\n",
      "[ERROR] [2024-03-29 10:59:07.666] [thread: 1710340] [blf] [QPTSID::advance] osqp was not able to find a feasible solution.\n",
      "[ERROR] [2024-03-29 10:59:07.932] [thread: 1710340] [blf] [QPTSID::advance] osqp was not able to find a feasible solution.\n",
      "[ERROR] [2024-03-29 10:59:07.965] [thread: 1710340] [blf] [QPTSID::advance] osqp was not able to find a feasible solution.\n",
      "[ERROR] [2024-03-29 10:59:07.997] [thread: 1710340] [blf] [QPTSID::advance] osqp was not able to find a feasible solution.\n",
      "[ERROR] [2024-03-29 10:59:08.030] [thread: 1710340] [blf] [QPTSID::advance] osqp was not able to find a feasible solution.\n",
      "[ERROR] [2024-03-29 10:59:08.063] [thread: 1710340] [blf] [QPTSID::advance] osqp was not able to find a feasible solution.\n",
      "[ERROR] [2024-03-29 10:59:08.098] [thread: 1710340] [blf] [QPTSID::advance] osqp was not able to find a feasible solution.\n",
      "[ERROR] [2024-03-29 10:59:08.131] [thread: 1710340] [blf] [QPTSID::advance] osqp was not able to find a feasible solution.\n"
     ]
    },
    {
     "name": "stdout",
     "output_type": "stream",
     "text": [
      "Controller failed\n",
      "Controller failed\n",
      "Controller failed\n",
      "Controller failed\n",
      "Controller failed\n",
      "Controller failed\n",
      "Controller failed\n",
      "Controller failed\n",
      "Controller failed\n",
      "Controller failed\n"
     ]
    },
    {
     "name": "stderr",
     "output_type": "stream",
     "text": [
      "[ERROR] [2024-03-29 10:59:08.166] [thread: 1710340] [blf] [QPTSID::advance] osqp was not able to find a feasible solution.\n",
      "[ERROR] [2024-03-29 10:59:08.198] [thread: 1710340] [blf] [QPTSID::advance] osqp was not able to find a feasible solution.\n",
      "[ERROR] [2024-03-29 10:59:08.231] [thread: 1710340] [blf] [QPTSID::advance] osqp was not able to find a feasible solution.\n",
      "[ERROR] [2024-03-29 10:59:08.512] [thread: 1710340] [blf] [QPTSID::advance] osqp was not able to find a feasible solution.\n",
      "[ERROR] [2024-03-29 10:59:08.546] [thread: 1710340] [blf] [QPTSID::advance] osqp was not able to find a feasible solution.\n",
      "[ERROR] [2024-03-29 10:59:08.640] [thread: 1710340] [blf] [QPTSID::advance] osqp was not able to find a feasible solution.\n",
      "[ERROR] [2024-03-29 10:59:08.684] [thread: 1710340] [blf] [QPTSID::advance] osqp was not able to find a feasible solution.\n"
     ]
    },
    {
     "name": "stdout",
     "output_type": "stream",
     "text": [
      "Controller failed\n",
      "Controller failed\n",
      "Controller failed\n",
      "Controller failed\n",
      "Controller failed\n",
      "Controller failed\n",
      "Controller failed\n",
      "Controller failed\n",
      "Controller failed\n"
     ]
    },
    {
     "name": "stderr",
     "output_type": "stream",
     "text": [
      "[ERROR] [2024-03-29 10:59:08.731] [thread: 1710340] [blf] [QPTSID::advance] osqp was not able to find a feasible solution.\n",
      "[ERROR] [2024-03-29 10:59:08.776] [thread: 1710340] [blf] [QPTSID::advance] osqp was not able to find a feasible solution.\n",
      "[ERROR] [2024-03-29 10:59:08.820] [thread: 1710340] [blf] [QPTSID::advance] osqp was not able to find a feasible solution.\n",
      "[ERROR] [2024-03-29 10:59:08.865] [thread: 1710340] [blf] [QPTSID::advance] osqp was not able to find a feasible solution.\n",
      "[ERROR] [2024-03-29 10:59:08.909] [thread: 1710340] [blf] [QPTSID::advance] osqp was not able to find a feasible solution.\n"
     ]
    },
    {
     "name": "stdout",
     "output_type": "stream",
     "text": [
      "Controller failed\n"
     ]
    },
    {
     "name": "stderr",
     "output_type": "stream",
     "text": [
      "[ERROR] [2024-03-29 10:59:08.954] [thread: 1710340] [blf] [QPTSID::advance] osqp was not able to find a feasible solution.\n",
      "[ERROR] [2024-03-29 10:59:09.250] [thread: 1710340] [blf] [QPTSID::advance] osqp was not able to find a feasible solution.\n",
      "[ERROR] [2024-03-29 10:59:09.282] [thread: 1710340] [blf] [QPTSID::advance] osqp was not able to find a feasible solution.\n",
      "[ERROR] [2024-03-29 10:59:09.315] [thread: 1710340] [blf] [QPTSID::advance] osqp was not able to find a feasible solution.\n",
      "[ERROR] [2024-03-29 10:59:09.350] [thread: 1710340] [blf] [QPTSID::advance] osqp was not able to find a feasible solution.\n",
      "[ERROR] [2024-03-29 10:59:09.383] [thread: 1710340] [blf] [QPTSID::advance] osqp was not able to find a feasible solution.\n",
      "[ERROR] [2024-03-29 10:59:09.415] [thread: 1710340] [blf] [QPTSID::advance] osqp was not able to find a feasible solution.\n",
      "[ERROR] [2024-03-29 10:59:09.448] [thread: 1710340] [blf] [QPTSID::advance] osqp was not able to find a feasible solution.\n"
     ]
    },
    {
     "name": "stdout",
     "output_type": "stream",
     "text": [
      "Controller failed\n",
      "Controller failed\n",
      "Controller failed\n",
      "Controller failed\n",
      "Controller failed\n",
      "Controller failed\n",
      "Controller failed\n",
      "Controller failed\n",
      "Controller failed\n",
      "Controller failed\n"
     ]
    },
    {
     "name": "stderr",
     "output_type": "stream",
     "text": [
      "[ERROR] [2024-03-29 10:59:09.482] [thread: 1710340] [blf] [QPTSID::advance] osqp was not able to find a feasible solution.\n",
      "[ERROR] [2024-03-29 10:59:09.515] [thread: 1710340] [blf] [QPTSID::advance] osqp was not able to find a feasible solution.\n",
      "[ERROR] [2024-03-29 10:59:09.548] [thread: 1710340] [blf] [QPTSID::advance] osqp was not able to find a feasible solution.\n"
     ]
    },
    {
     "name": "stdout",
     "output_type": "stream",
     "text": [
      "Controller failed\n",
      "Controller failed\n",
      "Controller failed\n",
      "Controller failed\n"
     ]
    },
    {
     "name": "stderr",
     "output_type": "stream",
     "text": [
      "[ERROR] [2024-03-29 10:59:09.840] [thread: 1710340] [blf] [QPTSID::advance] osqp was not able to find a feasible solution.\n",
      "[ERROR] [2024-03-29 10:59:09.873] [thread: 1710340] [blf] [QPTSID::advance] osqp was not able to find a feasible solution.\n",
      "[ERROR] [2024-03-29 10:59:09.985] [thread: 1710340] [blf] [QPTSID::advance] osqp was not able to find a feasible solution.\n",
      "[ERROR] [2024-03-29 10:59:10.029] [thread: 1710340] [blf] [QPTSID::advance] osqp was not able to find a feasible solution.\n"
     ]
    },
    {
     "name": "stdout",
     "output_type": "stream",
     "text": [
      "Controller failed\n",
      "Controller failed\n",
      "Controller failed\n",
      "Controller failed\n",
      "Controller failed\n",
      "Controller failed\n"
     ]
    },
    {
     "name": "stderr",
     "output_type": "stream",
     "text": [
      "[ERROR] [2024-03-29 10:59:10.074] [thread: 1710340] [blf] [QPTSID::advance] osqp was not able to find a feasible solution.\n",
      "[ERROR] [2024-03-29 10:59:10.107] [thread: 1710340] [blf] [QPTSID::advance] osqp was not able to find a feasible solution.\n",
      "[ERROR] [2024-03-29 10:59:10.143] [thread: 1710340] [blf] [QPTSID::advance] osqp was not able to find a feasible solution.\n",
      "[ERROR] [2024-03-29 10:59:10.176] [thread: 1710340] [blf] [QPTSID::advance] osqp was not able to find a feasible solution.\n",
      "[ERROR] [2024-03-29 10:59:10.208] [thread: 1710340] [blf] [QPTSID::advance] osqp was not able to find a feasible solution.\n",
      "[ERROR] [2024-03-29 10:59:10.241] [thread: 1710340] [blf] [QPTSID::advance] osqp was not able to find a feasible solution.\n"
     ]
    },
    {
     "name": "stdout",
     "output_type": "stream",
     "text": [
      "Controller failed\n",
      "Controller failed\n"
     ]
    },
    {
     "name": "stderr",
     "output_type": "stream",
     "text": [
      "[ERROR] [2024-03-29 10:59:10.551] [thread: 1710340] [blf] [QPTSID::advance] osqp was not able to find a feasible solution.\n",
      "[ERROR] [2024-03-29 10:59:10.584] [thread: 1710340] [blf] [QPTSID::advance] osqp was not able to find a feasible solution.\n"
     ]
    },
    {
     "name": "stdout",
     "output_type": "stream",
     "text": [
      "Controller failed\n"
     ]
    },
    {
     "name": "stderr",
     "output_type": "stream",
     "text": [
      "[ERROR] [2024-03-29 10:59:11.420] [thread: 1710340] [blf] [QPTSID::advance] osqp was not able to find a feasible solution.\n"
     ]
    },
    {
     "name": "stdout",
     "output_type": "stream",
     "text": [
      "Controller failed\n",
      "Controller failed\n",
      "Controller failed\n"
     ]
    },
    {
     "name": "stderr",
     "output_type": "stream",
     "text": [
      "[ERROR] [2024-03-29 10:59:11.730] [thread: 1710340] [blf] [QPTSID::advance] osqp was not able to find a feasible solution.\n",
      "[ERROR] [2024-03-29 10:59:11.813] [thread: 1710340] [blf] [QPTSID::advance] osqp was not able to find a feasible solution.\n",
      "[ERROR] [2024-03-29 10:59:11.858] [thread: 1710340] [blf] [QPTSID::advance] osqp was not able to find a feasible solution.\n"
     ]
    },
    {
     "name": "stdout",
     "output_type": "stream",
     "text": [
      "Controller failed\n",
      "Controller failed\n"
     ]
    },
    {
     "name": "stderr",
     "output_type": "stream",
     "text": [
      "[ERROR] [2024-03-29 10:59:11.965] [thread: 1710340] [blf] [QPTSID::advance] osqp was not able to find a feasible solution.\n",
      "[ERROR] [2024-03-29 10:59:12.070] [thread: 1710340] [blf] [QPTSID::advance] osqp was not able to find a feasible solution.\n"
     ]
    },
    {
     "name": "stdout",
     "output_type": "stream",
     "text": [
      "Controller failed\n",
      "Controller failed\n"
     ]
    },
    {
     "name": "stderr",
     "output_type": "stream",
     "text": [
      "[ERROR] [2024-03-29 10:59:12.249] [thread: 1710340] [blf] [QPTSID::advance] osqp was not able to find a feasible solution.\n",
      "[ERROR] [2024-03-29 10:59:12.437] [thread: 1710340] [blf] [QPTSID::advance] osqp was not able to find a feasible solution.\n"
     ]
    },
    {
     "name": "stdout",
     "output_type": "stream",
     "text": [
      "Controller failed\n"
     ]
    },
    {
     "name": "stderr",
     "output_type": "stream",
     "text": [
      "[ERROR] [2024-03-29 10:59:12.805] [thread: 1710340] [blf] [QPTSID::advance] osqp was not able to find a feasible solution.\n"
     ]
    },
    {
     "name": "stdout",
     "output_type": "stream",
     "text": [
      "Controller failed\n",
      "Controller failed\n"
     ]
    },
    {
     "name": "stderr",
     "output_type": "stream",
     "text": [
      "[ERROR] [2024-03-29 10:59:13.293] [thread: 1710340] [blf] [QPTSID::advance] osqp was not able to find a feasible solution.\n",
      "[ERROR] [2024-03-29 10:59:13.460] [thread: 1710340] [blf] [QPTSID::advance] osqp was not able to find a feasible solution.\n"
     ]
    },
    {
     "name": "stdout",
     "output_type": "stream",
     "text": [
      "Controller failed\n",
      "Controller failed\n",
      "Controller failed\n"
     ]
    },
    {
     "name": "stderr",
     "output_type": "stream",
     "text": [
      "[ERROR] [2024-03-29 10:59:13.566] [thread: 1710340] [blf] [QPTSID::advance] osqp was not able to find a feasible solution.\n",
      "[ERROR] [2024-03-29 10:59:13.652] [thread: 1710340] [blf] [QPTSID::advance] osqp was not able to find a feasible solution.\n",
      "[ERROR] [2024-03-29 10:59:13.715] [thread: 1710340] [blf] [QPTSID::advance] osqp was not able to find a feasible solution.\n"
     ]
    },
    {
     "name": "stdout",
     "output_type": "stream",
     "text": [
      "Controller failed\n",
      "Controller failed\n",
      "Controller failed\n"
     ]
    },
    {
     "name": "stderr",
     "output_type": "stream",
     "text": [
      "[ERROR] [2024-03-29 10:59:13.828] [thread: 1710340] [blf] [QPTSID::advance] osqp was not able to find a feasible solution.\n",
      "[ERROR] [2024-03-29 10:59:13.937] [thread: 1710340] [blf] [QPTSID::advance] osqp was not able to find a feasible solution.\n",
      "[ERROR] [2024-03-29 10:59:13.993] [thread: 1710340] [blf] [QPTSID::advance] osqp was not able to find a feasible solution.\n"
     ]
    },
    {
     "name": "stdout",
     "output_type": "stream",
     "text": [
      "Controller failed\n"
     ]
    },
    {
     "name": "stderr",
     "output_type": "stream",
     "text": [
      "[ERROR] [2024-03-29 10:59:14.039] [thread: 1710340] [blf] [QPTSID::advance] osqp was not able to find a feasible solution.\n"
     ]
    },
    {
     "name": "stdout",
     "output_type": "stream",
     "text": [
      "Controller failed\n",
      "Controller failed\n",
      "Controller failed\n",
      "Controller failed\n",
      "Controller failed\n"
     ]
    },
    {
     "name": "stderr",
     "output_type": "stream",
     "text": [
      "[ERROR] [2024-03-29 10:59:14.432] [thread: 1710340] [blf] [QPTSID::advance] osqp was not able to find a feasible solution.\n",
      "[ERROR] [2024-03-29 10:59:14.478] [thread: 1710340] [blf] [QPTSID::advance] osqp was not able to find a feasible solution.\n",
      "[ERROR] [2024-03-29 10:59:14.524] [thread: 1710340] [blf] [QPTSID::advance] osqp was not able to find a feasible solution.\n",
      "[ERROR] [2024-03-29 10:59:14.570] [thread: 1710340] [blf] [QPTSID::advance] osqp was not able to find a feasible solution.\n",
      "[ERROR] [2024-03-29 10:59:14.616] [thread: 1710340] [blf] [QPTSID::advance] osqp was not able to find a feasible solution.\n"
     ]
    },
    {
     "name": "stdout",
     "output_type": "stream",
     "text": [
      "Controller failed\n",
      "Controller failed\n",
      "Controller failed\n"
     ]
    },
    {
     "name": "stderr",
     "output_type": "stream",
     "text": [
      "[ERROR] [2024-03-29 10:59:14.663] [thread: 1710340] [blf] [QPTSID::advance] osqp was not able to find a feasible solution.\n",
      "[ERROR] [2024-03-29 10:59:14.721] [thread: 1710340] [blf] [QPTSID::advance] osqp was not able to find a feasible solution.\n",
      "[ERROR] [2024-03-29 10:59:14.778] [thread: 1710340] [blf] [QPTSID::advance] osqp was not able to find a feasible solution.\n"
     ]
    },
    {
     "name": "stdout",
     "output_type": "stream",
     "text": [
      "Controller failed\n",
      "Controller failed\n"
     ]
    },
    {
     "name": "stderr",
     "output_type": "stream",
     "text": [
      "[ERROR] [2024-03-29 10:59:14.907] [thread: 1710340] [blf] [QPTSID::advance] osqp was not able to find a feasible solution.\n",
      "[ERROR] [2024-03-29 10:59:15.086] [thread: 1710340] [blf] [QPTSID::advance] osqp was not able to find a feasible solution.\n"
     ]
    },
    {
     "name": "stdout",
     "output_type": "stream",
     "text": [
      "Controller failed\n",
      "Controller failed\n"
     ]
    },
    {
     "name": "stderr",
     "output_type": "stream",
     "text": [
      "[ERROR] [2024-03-29 10:59:15.977] [thread: 1710340] [blf] [QPTSID::advance] osqp was not able to find a feasible solution.\n",
      "[ERROR] [2024-03-29 10:59:16.190] [thread: 1710340] [blf] [QPTSID::advance] osqp was not able to find a feasible solution.\n"
     ]
    },
    {
     "name": "stdout",
     "output_type": "stream",
     "text": [
      "Controller failed\n"
     ]
    },
    {
     "name": "stderr",
     "output_type": "stream",
     "text": [
      "[ERROR] [2024-03-29 10:59:16.307] [thread: 1710340] [blf] [QPTSID::advance] osqp was not able to find a feasible solution.\n"
     ]
    },
    {
     "name": "stdout",
     "output_type": "stream",
     "text": [
      "Controller failed\n"
     ]
    },
    {
     "name": "stderr",
     "output_type": "stream",
     "text": [
      "[ERROR] [2024-03-29 10:59:17.037] [thread: 1710340] [blf] [QPTSID::advance] osqp was not able to find a feasible solution.\n"
     ]
    },
    {
     "name": "stdout",
     "output_type": "stream",
     "text": [
      "Controller failed\n",
      "Controller failed\n",
      "Controller failed\n"
     ]
    },
    {
     "name": "stderr",
     "output_type": "stream",
     "text": [
      "[ERROR] [2024-03-29 10:59:17.287] [thread: 1710340] [blf] [QPTSID::advance] osqp was not able to find a feasible solution.\n",
      "[ERROR] [2024-03-29 10:59:17.370] [thread: 1710340] [blf] [QPTSID::advance] osqp was not able to find a feasible solution.\n",
      "[ERROR] [2024-03-29 10:59:17.490] [thread: 1710340] [blf] [QPTSID::advance] osqp was not able to find a feasible solution.\n"
     ]
    },
    {
     "name": "stdout",
     "output_type": "stream",
     "text": [
      "Controller failed\n",
      "Controller failed\n",
      "Controller failed\n"
     ]
    },
    {
     "name": "stderr",
     "output_type": "stream",
     "text": [
      "[ERROR] [2024-03-29 10:59:17.776] [thread: 1710340] [blf] [QPTSID::advance] osqp was not able to find a feasible solution.\n",
      "[ERROR] [2024-03-29 10:59:17.845] [thread: 1710340] [blf] [QPTSID::advance] osqp was not able to find a feasible solution.\n",
      "[ERROR] [2024-03-29 10:59:17.903] [thread: 1710340] [blf] [QPTSID::advance] osqp was not able to find a feasible solution.\n"
     ]
    },
    {
     "name": "stdout",
     "output_type": "stream",
     "text": [
      "Controller failed\n",
      "Controller failed\n",
      "Controller failed\n"
     ]
    },
    {
     "name": "stderr",
     "output_type": "stream",
     "text": [
      "[ERROR] [2024-03-29 10:59:18.505] [thread: 1710340] [blf] [QPTSID::advance] osqp was not able to find a feasible solution.\n",
      "[ERROR] [2024-03-29 10:59:18.636] [thread: 1710340] [blf] [QPTSID::advance] osqp was not able to find a feasible solution.\n",
      "[ERROR] [2024-03-29 10:59:18.694] [thread: 1710340] [blf] [QPTSID::advance] osqp was not able to find a feasible solution.\n"
     ]
    },
    {
     "name": "stdout",
     "output_type": "stream",
     "text": [
      "Controller failed\n",
      "Controller failed\n"
     ]
    },
    {
     "name": "stderr",
     "output_type": "stream",
     "text": [
      "[ERROR] [2024-03-29 10:59:18.848] [thread: 1710340] [blf] [QPTSID::advance] osqp was not able to find a feasible solution.\n",
      "[ERROR] [2024-03-29 10:59:18.929] [thread: 1710340] [blf] [QPTSID::advance] osqp was not able to find a feasible solution.\n"
     ]
    },
    {
     "name": "stdout",
     "output_type": "stream",
     "text": [
      "Controller failed\n",
      "Controller failed\n"
     ]
    },
    {
     "name": "stderr",
     "output_type": "stream",
     "text": [
      "[ERROR] [2024-03-29 10:59:19.118] [thread: 1710340] [blf] [QPTSID::advance] osqp was not able to find a feasible solution.\n",
      "[ERROR] [2024-03-29 10:59:19.273] [thread: 1710340] [blf] [QPTSID::advance] osqp was not able to find a feasible solution.\n"
     ]
    },
    {
     "name": "stdout",
     "output_type": "stream",
     "text": [
      "Controller failed\n",
      "Controller failed\n"
     ]
    },
    {
     "name": "stderr",
     "output_type": "stream",
     "text": [
      "[ERROR] [2024-03-29 10:59:19.425] [thread: 1710340] [blf] [QPTSID::advance] osqp was not able to find a feasible solution.\n",
      "[ERROR] [2024-03-29 10:59:19.542] [thread: 1710340] [blf] [QPTSID::advance] osqp was not able to find a feasible solution.\n"
     ]
    },
    {
     "name": "stdout",
     "output_type": "stream",
     "text": [
      "Controller failed\n"
     ]
    },
    {
     "name": "stderr",
     "output_type": "stream",
     "text": [
      "[ERROR] [2024-03-29 10:59:19.720] [thread: 1710340] [blf] [QPTSID::advance] osqp was not able to find a feasible solution.\n",
      "[ERROR] [2024-03-29 10:59:20.199] [thread: 1710340] [blf] [QPTSID::advance] osqp was not able to find a feasible solution.\n",
      "[ERROR] [2024-03-29 10:59:20.319] [thread: 1710340] [blf] [QPTSID::advance] osqp was not able to find a feasible solution.\n"
     ]
    },
    {
     "name": "stdout",
     "output_type": "stream",
     "text": [
      "Controller failed\n",
      "Controller failed\n",
      "Controller failed\n",
      "Controller failed\n",
      "Controller failed\n"
     ]
    },
    {
     "name": "stderr",
     "output_type": "stream",
     "text": [
      "[ERROR] [2024-03-29 10:59:20.425] [thread: 1710340] [blf] [QPTSID::advance] osqp was not able to find a feasible solution.\n",
      "[ERROR] [2024-03-29 10:59:20.531] [thread: 1710340] [blf] [QPTSID::advance] osqp was not able to find a feasible solution.\n",
      "[ERROR] [2024-03-29 10:59:20.589] [thread: 1710340] [blf] [QPTSID::advance] osqp was not able to find a feasible solution.\n"
     ]
    },
    {
     "name": "stdout",
     "output_type": "stream",
     "text": [
      "Controller failed\n",
      "Controller failed\n"
     ]
    },
    {
     "name": "stderr",
     "output_type": "stream",
     "text": [
      "[ERROR] [2024-03-29 10:59:20.755] [thread: 1710340] [blf] [QPTSID::advance] osqp was not able to find a feasible solution.\n",
      "[ERROR] [2024-03-29 10:59:20.884] [thread: 1710340] [blf] [QPTSID::advance] osqp was not able to find a feasible solution.\n"
     ]
    },
    {
     "name": "stdout",
     "output_type": "stream",
     "text": [
      "Controller failed\n",
      "Controller failed\n"
     ]
    },
    {
     "name": "stderr",
     "output_type": "stream",
     "text": [
      "[ERROR] [2024-03-29 10:59:21.026] [thread: 1710340] [blf] [QPTSID::advance] osqp was not able to find a feasible solution.\n",
      "[ERROR] [2024-03-29 10:59:21.156] [thread: 1710340] [blf] [QPTSID::advance] osqp was not able to find a feasible solution.\n"
     ]
    },
    {
     "name": "stdout",
     "output_type": "stream",
     "text": [
      "Controller failed\n"
     ]
    },
    {
     "name": "stderr",
     "output_type": "stream",
     "text": [
      "[ERROR] [2024-03-29 10:59:21.262] [thread: 1710340] [blf] [QPTSID::advance] osqp was not able to find a feasible solution.\n",
      "[ERROR] [2024-03-29 10:59:21.775] [thread: 1710340] [blf] [QPTSID::advance] osqp was not able to find a feasible solution.\n",
      "[ERROR] [2024-03-29 10:59:21.880] [thread: 1710340] [blf] [QPTSID::advance] osqp was not able to find a feasible solution.\n"
     ]
    },
    {
     "name": "stdout",
     "output_type": "stream",
     "text": [
      "Controller failed\n",
      "Controller failed\n",
      "Controller failed\n",
      "Controller failed\n"
     ]
    },
    {
     "name": "stderr",
     "output_type": "stream",
     "text": [
      "[ERROR] [2024-03-29 10:59:22.033] [thread: 1710340] [blf] [QPTSID::advance] osqp was not able to find a feasible solution.\n",
      "[ERROR] [2024-03-29 10:59:22.161] [thread: 1710340] [blf] [QPTSID::advance] osqp was not able to find a feasible solution.\n"
     ]
    },
    {
     "name": "stdout",
     "output_type": "stream",
     "text": [
      "Controller failed\n"
     ]
    },
    {
     "name": "stderr",
     "output_type": "stream",
     "text": [
      "[ERROR] [2024-03-29 10:59:22.554] [thread: 1710340] [blf] [QPTSID::advance] osqp was not able to find a feasible solution.\n"
     ]
    },
    {
     "name": "stdout",
     "output_type": "stream",
     "text": [
      "Controller failed\n"
     ]
    },
    {
     "name": "stderr",
     "output_type": "stream",
     "text": [
      "[ERROR] [2024-03-29 10:59:22.897] [thread: 1710340] [blf] [QPTSID::advance] osqp was not able to find a feasible solution.\n",
      "[ERROR] [2024-03-29 10:59:23.110] [thread: 1710340] [blf] [QPTSID::advance] osqp was not able to find a feasible solution.\n"
     ]
    },
    {
     "name": "stdout",
     "output_type": "stream",
     "text": [
      "Controller failed\n",
      "Controller failed\n"
     ]
    },
    {
     "name": "stderr",
     "output_type": "stream",
     "text": [
      "[ERROR] [2024-03-29 10:59:23.324] [thread: 1710340] [blf] [QPTSID::advance] osqp was not able to find a feasible solution.\n",
      "[ERROR] [2024-03-29 10:59:23.417] [thread: 1710340] [blf] [QPTSID::advance] osqp was not able to find a feasible solution.\n"
     ]
    },
    {
     "name": "stdout",
     "output_type": "stream",
     "text": [
      "Controller failed\n",
      "Controller failed\n"
     ]
    },
    {
     "name": "stderr",
     "output_type": "stream",
     "text": [
      "[ERROR] [2024-03-29 10:59:23.547] [thread: 1710340] [blf] [QPTSID::advance] osqp was not able to find a feasible solution.\n"
     ]
    },
    {
     "name": "stdout",
     "output_type": "stream",
     "text": [
      "Controller failed\n",
      "Controller failed\n",
      "Controller failed\n",
      "Controller failed\n"
     ]
    },
    {
     "name": "stderr",
     "output_type": "stream",
     "text": [
      "[ERROR] [2024-03-29 10:59:24.035] [thread: 1710340] [blf] [QPTSID::advance] osqp was not able to find a feasible solution.\n",
      "[ERROR] [2024-03-29 10:59:24.093] [thread: 1710340] [blf] [QPTSID::advance] osqp was not able to find a feasible solution.\n",
      "[ERROR] [2024-03-29 10:59:24.139] [thread: 1710340] [blf] [QPTSID::advance] osqp was not able to find a feasible solution.\n",
      "[ERROR] [2024-03-29 10:59:24.184] [thread: 1710340] [blf] [QPTSID::advance] osqp was not able to find a feasible solution.\n"
     ]
    },
    {
     "name": "stdout",
     "output_type": "stream",
     "text": [
      "Controller failed\n",
      "Controller failed\n",
      "Controller failed\n"
     ]
    },
    {
     "name": "stderr",
     "output_type": "stream",
     "text": [
      "[ERROR] [2024-03-29 10:59:24.278] [thread: 1710340] [blf] [QPTSID::advance] osqp was not able to find a feasible solution.\n",
      "[ERROR] [2024-03-29 10:59:24.326] [thread: 1710340] [blf] [QPTSID::advance] osqp was not able to find a feasible solution.\n",
      "[ERROR] [2024-03-29 10:59:24.418] [thread: 1710340] [blf] [QPTSID::advance] osqp was not able to find a feasible solution.\n"
     ]
    },
    {
     "name": "stdout",
     "output_type": "stream",
     "text": [
      "Controller failed\n",
      "Controller failed\n",
      "Controller failed\n"
     ]
    },
    {
     "name": "stderr",
     "output_type": "stream",
     "text": [
      "[ERROR] [2024-03-29 10:59:24.513] [thread: 1710340] [blf] [QPTSID::advance] osqp was not able to find a feasible solution.\n",
      "[ERROR] [2024-03-29 10:59:24.570] [thread: 1710340] [blf] [QPTSID::advance] osqp was not able to find a feasible solution.\n",
      "[ERROR] [2024-03-29 10:59:24.666] [thread: 1710340] [blf] [QPTSID::advance] osqp was not able to find a feasible solution.\n",
      "[ERROR] [2024-03-29 10:59:25.048] [thread: 1710340] [blf] [QPTSID::advance] osqp was not able to find a feasible solution.\n",
      "[ERROR] [2024-03-29 10:59:25.143] [thread: 1710340] [blf] [QPTSID::advance] osqp was not able to find a feasible solution.\n",
      "[ERROR] [2024-03-29 10:59:25.188] [thread: 1710340] [blf] [QPTSID::advance] osqp was not able to find a feasible solution.\n"
     ]
    },
    {
     "name": "stdout",
     "output_type": "stream",
     "text": [
      "Controller failed\n",
      "Controller failed\n",
      "Controller failed\n",
      "Controller failed\n"
     ]
    },
    {
     "name": "stderr",
     "output_type": "stream",
     "text": [
      "[ERROR] [2024-03-29 10:59:25.317] [thread: 1710340] [blf] [QPTSID::advance] osqp was not able to find a feasible solution.\n"
     ]
    },
    {
     "name": "stdout",
     "output_type": "stream",
     "text": [
      "Controller failed\n"
     ]
    },
    {
     "name": "stderr",
     "output_type": "stream",
     "text": [
      "[ERROR] [2024-03-29 10:59:25.974] [thread: 1710340] [blf] [QPTSID::advance] osqp was not able to find a feasible solution.\n"
     ]
    },
    {
     "name": "stdout",
     "output_type": "stream",
     "text": [
      "Controller failed\n"
     ]
    },
    {
     "name": "stderr",
     "output_type": "stream",
     "text": [
      "[ERROR] [2024-03-29 10:59:26.450] [thread: 1710340] [blf] [QPTSID::advance] osqp was not able to find a feasible solution.\n"
     ]
    },
    {
     "name": "stdout",
     "output_type": "stream",
     "text": [
      "Controller failed\n",
      "Controller failed\n"
     ]
    },
    {
     "name": "stderr",
     "output_type": "stream",
     "text": [
      "[ERROR] [2024-03-29 10:59:26.675] [thread: 1710340] [blf] [QPTSID::advance] osqp was not able to find a feasible solution.\n",
      "[ERROR] [2024-03-29 10:59:26.768] [thread: 1710340] [blf] [QPTSID::advance] osqp was not able to find a feasible solution.\n"
     ]
    },
    {
     "name": "stdout",
     "output_type": "stream",
     "text": [
      "Controller failed\n",
      "Controller failed\n"
     ]
    },
    {
     "name": "stderr",
     "output_type": "stream",
     "text": [
      "[ERROR] [2024-03-29 10:59:27.259] [thread: 1710340] [blf] [QPTSID::advance] osqp was not able to find a feasible solution.\n",
      "[ERROR] [2024-03-29 10:59:27.460] [thread: 1710340] [blf] [QPTSID::advance] osqp was not able to find a feasible solution.\n"
     ]
    },
    {
     "name": "stdout",
     "output_type": "stream",
     "text": [
      "Controller failed\n",
      "Controller failed\n"
     ]
    },
    {
     "name": "stderr",
     "output_type": "stream",
     "text": [
      "[ERROR] [2024-03-29 10:59:28.107] [thread: 1710340] [blf] [QPTSID::advance] osqp was not able to find a feasible solution.\n",
      "[ERROR] [2024-03-29 10:59:28.307] [thread: 1710340] [blf] [QPTSID::advance] osqp was not able to find a feasible solution.\n"
     ]
    },
    {
     "name": "stdout",
     "output_type": "stream",
     "text": [
      "Controller failed\n",
      "Controller failed\n",
      "Controller failed\n"
     ]
    },
    {
     "name": "stderr",
     "output_type": "stream",
     "text": [
      "[ERROR] [2024-03-29 10:59:28.509] [thread: 1710340] [blf] [QPTSID::advance] osqp was not able to find a feasible solution.\n",
      "[ERROR] [2024-03-29 10:59:28.586] [thread: 1710340] [blf] [QPTSID::advance] osqp was not able to find a feasible solution.\n",
      "[ERROR] [2024-03-29 10:59:28.664] [thread: 1710340] [blf] [QPTSID::advance] osqp was not able to find a feasible solution.\n"
     ]
    },
    {
     "name": "stdout",
     "output_type": "stream",
     "text": [
      "Controller failed\n"
     ]
    },
    {
     "name": "stderr",
     "output_type": "stream",
     "text": [
      "[ERROR] [2024-03-29 10:59:28.732] [thread: 1710340] [blf] [QPTSID::advance] osqp was not able to find a feasible solution.\n"
     ]
    },
    {
     "ename": "ValueError",
     "evalue": "The orientation is not a valid element of SO(3)",
     "output_type": "error",
     "traceback": [
      "\u001b[0;31m---------------------------------------------------------------------------\u001b[0m",
      "\u001b[0;31mValueError\u001b[0m                                Traceback (most recent call last)",
      "Cell \u001b[0;32mIn[17], line 54\u001b[0m\n\u001b[1;32m     51\u001b[0m tau \u001b[38;5;241m=\u001b[39m TSID_controller_instance\u001b[38;5;241m.\u001b[39mget_torque()\n\u001b[1;32m     53\u001b[0m \u001b[38;5;66;03m# Step the simulator\u001b[39;00m\n\u001b[0;32m---> 54\u001b[0m \u001b[43mjax_instance\u001b[49m\u001b[38;5;241;43m.\u001b[39;49m\u001b[43mstep\u001b[49m\u001b[43m(\u001b[49m\u001b[43mn_step\u001b[49m\u001b[38;5;241;43m=\u001b[39;49m\u001b[43mn_step\u001b[49m\u001b[43m,\u001b[49m\u001b[43m \u001b[49m\u001b[43mtorque\u001b[49m\u001b[38;5;241;43m=\u001b[39;49m\u001b[43mtau\u001b[49m\u001b[43m)\u001b[49m\n\u001b[1;32m     55\u001b[0m counter \u001b[38;5;241m=\u001b[39m counter \u001b[38;5;241m+\u001b[39m \u001b[38;5;241m1\u001b[39m\n\u001b[1;32m     57\u001b[0m \u001b[38;5;28;01mif\u001b[39;00m counter \u001b[38;5;241m==\u001b[39m n_step_mpc_tsid:\n",
      "File \u001b[0;32m~/git/comodo/src/comodo/jaxsimSimulator/jaxsimSimulator.py:104\u001b[0m, in \u001b[0;36mJaxsimSimulator.step\u001b[0;34m(self, torque, n_step)\u001b[0m\n\u001b[1;32m     94\u001b[0m \u001b[38;5;28mself\u001b[39m\u001b[38;5;241m.\u001b[39mdata, \u001b[38;5;28mself\u001b[39m\u001b[38;5;241m.\u001b[39mintegrator_state \u001b[38;5;241m=\u001b[39m js\u001b[38;5;241m.\u001b[39mmodel\u001b[38;5;241m.\u001b[39mstep(\n\u001b[1;32m     95\u001b[0m     dt\u001b[38;5;241m=\u001b[39m\u001b[38;5;28mself\u001b[39m\u001b[38;5;241m.\u001b[39mdt,\n\u001b[1;32m     96\u001b[0m     model\u001b[38;5;241m=\u001b[39m\u001b[38;5;28mself\u001b[39m\u001b[38;5;241m.\u001b[39mmodel,\n\u001b[0;32m   (...)\u001b[0m\n\u001b[1;32m    100\u001b[0m     joint_forces\u001b[38;5;241m=\u001b[39mtorque,\n\u001b[1;32m    101\u001b[0m )\n\u001b[1;32m    103\u001b[0m \u001b[38;5;28;01mif\u001b[39;00m \u001b[38;5;28mself\u001b[39m\u001b[38;5;241m.\u001b[39mvisualize_robot_flag:\n\u001b[0;32m--> 104\u001b[0m     \u001b[38;5;28;43mself\u001b[39;49m\u001b[38;5;241;43m.\u001b[39;49m\u001b[43mrender\u001b[49m\u001b[43m(\u001b[49m\u001b[43m)\u001b[49m\n",
      "File \u001b[0;32m~/git/comodo/src/comodo/jaxsimSimulator/jaxsimSimulator.py:180\u001b[0m, in \u001b[0;36mJaxsimSimulator.render\u001b[0;34m(self)\u001b[0m\n\u001b[1;32m    175\u001b[0m     \u001b[38;5;28mself\u001b[39m\u001b[38;5;241m.\u001b[39m_handle \u001b[38;5;241m=\u001b[39m \u001b[38;5;28mself\u001b[39m\u001b[38;5;241m.\u001b[39mviz\u001b[38;5;241m.\u001b[39mopen_viewer()\n\u001b[1;32m    177\u001b[0m \u001b[38;5;28mself\u001b[39m\u001b[38;5;241m.\u001b[39mmj_model_helper\u001b[38;5;241m.\u001b[39mset_base_position(\n\u001b[1;32m    178\u001b[0m     position\u001b[38;5;241m=\u001b[39m\u001b[38;5;28mself\u001b[39m\u001b[38;5;241m.\u001b[39mdata\u001b[38;5;241m.\u001b[39mbase_position(),\n\u001b[1;32m    179\u001b[0m )\n\u001b[0;32m--> 180\u001b[0m \u001b[38;5;28;43mself\u001b[39;49m\u001b[38;5;241;43m.\u001b[39;49m\u001b[43mmj_model_helper\u001b[49m\u001b[38;5;241;43m.\u001b[39;49m\u001b[43mset_base_orientation\u001b[49m\u001b[43m(\u001b[49m\n\u001b[1;32m    181\u001b[0m \u001b[43m    \u001b[49m\u001b[43morientation\u001b[49m\u001b[38;5;241;43m=\u001b[39;49m\u001b[38;5;28;43mself\u001b[39;49m\u001b[38;5;241;43m.\u001b[39;49m\u001b[43mdata\u001b[49m\u001b[38;5;241;43m.\u001b[39;49m\u001b[43mbase_orientation\u001b[49m\u001b[43m(\u001b[49m\u001b[43m)\u001b[49m\u001b[43m,\u001b[49m\n\u001b[1;32m    182\u001b[0m \u001b[43m\u001b[49m\u001b[43m)\u001b[49m\n\u001b[1;32m    183\u001b[0m \u001b[38;5;28mself\u001b[39m\u001b[38;5;241m.\u001b[39mmj_model_helper\u001b[38;5;241m.\u001b[39mset_joint_positions(\n\u001b[1;32m    184\u001b[0m     positions\u001b[38;5;241m=\u001b[39m\u001b[38;5;28mself\u001b[39m\u001b[38;5;241m.\u001b[39mdata\u001b[38;5;241m.\u001b[39mjoint_positions(),\n\u001b[1;32m    185\u001b[0m     joint_names\u001b[38;5;241m=\u001b[39m\u001b[38;5;28mself\u001b[39m\u001b[38;5;241m.\u001b[39mmodel\u001b[38;5;241m.\u001b[39mjoint_names(),\n\u001b[1;32m    186\u001b[0m )\n\u001b[1;32m    187\u001b[0m \u001b[38;5;28mself\u001b[39m\u001b[38;5;241m.\u001b[39mviz\u001b[38;5;241m.\u001b[39msync(viewer\u001b[38;5;241m=\u001b[39m\u001b[38;5;28mself\u001b[39m\u001b[38;5;241m.\u001b[39m_handle)\n",
      "File \u001b[0;32m~/jaxsim/src/jaxsim/mujoco/model.py:166\u001b[0m, in \u001b[0;36mMujocoModelHelper.set_base_orientation\u001b[0;34m(self, orientation, dcm)\u001b[0m\n\u001b[1;32m    161\u001b[0m     \u001b[38;5;28;01mreturn\u001b[39;00m np\u001b[38;5;241m.\u001b[39mallclose(np\u001b[38;5;241m.\u001b[39mlinalg\u001b[38;5;241m.\u001b[39mdet(R), \u001b[38;5;241m1.0\u001b[39m) \u001b[38;5;129;01mand\u001b[39;00m np\u001b[38;5;241m.\u001b[39mallclose(\n\u001b[1;32m    162\u001b[0m         R\u001b[38;5;241m.\u001b[39mT \u001b[38;5;241m@\u001b[39m R, np\u001b[38;5;241m.\u001b[39meye(\u001b[38;5;241m3\u001b[39m)\n\u001b[1;32m    163\u001b[0m     )\n\u001b[1;32m    165\u001b[0m \u001b[38;5;28;01mif\u001b[39;00m \u001b[38;5;129;01mnot\u001b[39;00m (is_quaternion(orientation) \u001b[38;5;28;01mif\u001b[39;00m \u001b[38;5;129;01mnot\u001b[39;00m dcm \u001b[38;5;28;01melse\u001b[39;00m is_dcm(orientation)):\n\u001b[0;32m--> 166\u001b[0m     \u001b[38;5;28;01mraise\u001b[39;00m \u001b[38;5;167;01mValueError\u001b[39;00m(\u001b[38;5;124m\"\u001b[39m\u001b[38;5;124mThe orientation is not a valid element of SO(3)\u001b[39m\u001b[38;5;124m\"\u001b[39m)\n\u001b[1;32m    168\u001b[0m W_Q_B \u001b[38;5;241m=\u001b[39m (\n\u001b[1;32m    169\u001b[0m     Rotation\u001b[38;5;241m.\u001b[39mfrom_matrix(orientation)\u001b[38;5;241m.\u001b[39mas_quat(canonical\u001b[38;5;241m=\u001b[39m\u001b[38;5;28;01mTrue\u001b[39;00m)[\n\u001b[1;32m    170\u001b[0m         np\u001b[38;5;241m.\u001b[39marray([\u001b[38;5;241m3\u001b[39m, \u001b[38;5;241m0\u001b[39m, \u001b[38;5;241m1\u001b[39m, \u001b[38;5;241m2\u001b[39m])\n\u001b[0;32m   (...)\u001b[0m\n\u001b[1;32m    173\u001b[0m     \u001b[38;5;28;01melse\u001b[39;00m orientation\n\u001b[1;32m    174\u001b[0m )\n\u001b[1;32m    176\u001b[0m \u001b[38;5;28mself\u001b[39m\u001b[38;5;241m.\u001b[39mdata\u001b[38;5;241m.\u001b[39mqpos[\u001b[38;5;241m3\u001b[39m:\u001b[38;5;241m7\u001b[39m] \u001b[38;5;241m=\u001b[39m W_Q_B\n",
      "\u001b[0;31mValueError\u001b[0m: The orientation is not a valid element of SO(3)"
     ]
    }
   ],
   "source": [
    "# Simulation-control loop\n",
    "while t < TIME_TH:\n",
    "\n",
    "    # Reading robot state from simulator\n",
    "    s, ds, tau = jax_instance.get_state()\n",
    "    energy_i = np.linalg.norm(tau)\n",
    "    H_b = jax_instance.get_base()\n",
    "    w_b = jax_instance.get_base_velocity()\n",
    "    t = jax_instance.get_simulation_time()\n",
    "\n",
    "    # Update TSID\n",
    "    TSID_controller_instance.set_state_with_base(s=s, s_dot=ds, H_b=H_b, w_b=w_b, t=t)\n",
    "\n",
    "    # MPC plan\n",
    "    if counter == 0:\n",
    "        mpc.set_state_with_base(s=s, s_dot=ds, H_b=H_b, w_b=w_b, t=t)\n",
    "        mpc.update_references()\n",
    "        mpc_success = mpc.plan_trajectory()\n",
    "        mpc.contact_planner.advance_swing_foot_planner()\n",
    "        if not (mpc_success):\n",
    "            print(\"MPC failed\")\n",
    "            # break\n",
    "\n",
    "    # Reading new references\n",
    "    com, dcom, forces_left, forces_right = mpc.get_references()\n",
    "    left_foot, right_foot = mpc.contact_planner.get_references_swing_foot_planner()\n",
    "\n",
    "    TSID_controller_instance.compute_com_position()\n",
    "    com_state.append(TSID_controller_instance.COM.toNumPy())\n",
    "    ref_state.append(com)\n",
    "\n",
    "    # Update references TSID\n",
    "    TSID_controller_instance.update_task_references_mpc(\n",
    "        com=com,\n",
    "        dcom=dcom,\n",
    "        ddcom=np.zeros(3),\n",
    "        left_foot_desired=left_foot,\n",
    "        right_foot_desired=right_foot,\n",
    "        s_desired=np.array(s_des),\n",
    "        wrenches_left=forces_left,\n",
    "        wrenches_right=forces_right,\n",
    "    )\n",
    "\n",
    "    # Run control\n",
    "    succeded_controller = TSID_controller_instance.run()\n",
    "\n",
    "    if not (succeded_controller):\n",
    "        print(\"Controller failed\")\n",
    "        # break\n",
    "\n",
    "    tau = TSID_controller_instance.get_torque()\n",
    "\n",
    "    # Step the simulator\n",
    "    jax_instance.step(n_step=n_step, torque=tau)\n",
    "    counter = counter + 1\n",
    "\n",
    "    if counter == n_step_mpc_tsid:\n",
    "        counter = 0"
   ]
  },
  {
   "cell_type": "code",
   "execution_count": null,
   "metadata": {},
   "outputs": [],
   "source": [
    "# Plot the com state and the reference\n",
    "\n",
    "import matplotlib.pyplot as plt\n",
    "com_state = np.array(com_state)\n",
    "ref_state = np.array(ref_state)\n",
    "\n",
    "plt.plot(com_state[:, 0], label=\"com_x\")\n",
    "plt.plot(ref_state[:, 0], label=\"ref_x\")\n",
    "plt.plot(com_state[:, 1], label=\"com_y\")\n",
    "plt.plot(ref_state[:, 1], label=\"ref_y\")\n",
    "plt.plot(com_state[:, 2], label=\"com_z\")\n",
    "plt.plot(ref_state[:, 2], label=\"ref_z\")\n",
    "plt.legend()\n",
    "plt.show()"
   ]
  },
  {
   "cell_type": "code",
   "execution_count": null,
   "metadata": {},
   "outputs": [],
   "source": [
    "# Simulation-control loop\n",
    "while t < 3:\n",
    "    print(tau_ctrl)\n",
    "    t = t + jax_instance.dt\n",
    "    print(\"Time: \", t)\n",
    "    # Reading robot state from simulator\n",
    "    s, ds, tau = jax_instance.get_state()\n",
    "    energy_i = np.linalg.norm(tau)\n",
    "    H_b = jax_instance.get_base()\n",
    "    w_b = jax_instance.get_base_velocity()\n",
    "\n",
    "    viewer.update_model(s=s, H_b=H_b)\n",
    "    viewer.visualize()\n",
    "    # Update TSID\n",
    "\n",
    "    #  TODO: BALANCING COMMENT OUT TO LIFT THE FOOT: TSID CLOSES THE LOOP\n",
    "    # TSID_controller_instance.set_state_with_base(s=s, s_dot=ds, H_b=H_b, w_b=w_b, t=t)\n",
    "    # # MPC plan\n",
    "    # if counter == 0:\n",
    "    #     mpc.update_references()\n",
    "    #     mpc_success = mpc.plan_trajectory()\n",
    "    #     mpc.contact_planner.advance_swing_foot_planner()\n",
    "\n",
    "    # com, dcom, forces_left, forces_right = mpc.get_references()\n",
    "    # left_foot, right_foot = mpc.contact_planner.get_references_swing_foot_planner()\n",
    "    # TSID_controller_instance.update_task_references_mpc(\n",
    "    #     com=com,\n",
    "    #     dcom=np.zeros(3),\n",
    "    #     ddcom=np.zeros(3),\n",
    "    #     left_foot_desired=left_foot,\n",
    "    #     right_foot_desired=right_foot,\n",
    "    #     s_desired=s_init ,\n",
    "    #     wrenches_left=forces_left,\n",
    "    #     wrenches_right=forces_right,\n",
    "    # )\n",
    "    # succeded_controller = TSID_controller_instance.run()\n",
    "    # tau_ctrl = TSID_controller_instance.get_torque()\n",
    "\n",
    "    # TODO: Rigth Left trajectory CoM  TSID closes the loop\n",
    "    TSID_controller_instance.set_state_with_base(s=s, s_dot=ds, H_b=H_b, w_b=w_b, t=t)\n",
    "    com_ref = TSID_controller_instance.COM.toNumPy()\n",
    "    Amplitude = 0.05 # amplitude in meters\n",
    "    omega_sin = 2*np.pi*0.5 # frequency in Hz\n",
    "    print(Amplitude*np.sin(omega_sin*t))\n",
    "    mpc_reference.append(com_ref)\n",
    "    com_ref[1] += Amplitude*np.sin(omega_sin*t)\n",
    "    reference.append(com_ref[1])\n",
    "\n",
    "    TSID_controller_instance.update_task_references_mpc_balancing(\n",
    "        com=com_ref,\n",
    "        dcom=np.zeros(3),\n",
    "        ddcom=np.zeros(3),\n",
    "        left_foot_desired=contact_left,\n",
    "        right_foot_desired=contact_right,\n",
    "        s_desired=s_init ,\n",
    "        wrenches_left=forces_left,\n",
    "        wrenches_right=forces_right,\n",
    "        )\n",
    "    succeded_controller = TSID_controller_instance.run()\n",
    "    tau_ctrl = TSID_controller_instance.get_torque()\n",
    "\n",
    "    assert np.allclose(tau_ctrl, jax_instance.tau)\n",
    "    jax_instance.step(n_step=n_step, torque=tau_ctrl)\n",
    "    print(f\"Joint positions: {jax_instance.data.joint_positions()}\")\n",
    "    counter = counter + 1\n",
    "    # break\n",
    "\n",
    "    if counter == n_step_mpc_tsid:\n",
    "        counter = 0"
   ]
  },
  {
   "cell_type": "code",
   "execution_count": null,
   "metadata": {},
   "outputs": [],
   "source": [
    "# import matplotlib.pyplot as plt\n",
    "\n",
    "# left_foot_force = np.array(contact_forces)[:,0]\n",
    "# left_foot_force_x = left_foot_force[:,0]\n",
    "# left_foot_force_y = left_foot_force[:,1]\n",
    "# left_foot_force_z = left_foot_force[:,2]\n",
    "# left_foot_force_Rx = left_foot_force[:,3]\n",
    "# left_foot_force_Ry = left_foot_force[:,4]\n",
    "# left_foot_force_Rz = left_foot_force[:,5]\n",
    "\n",
    "# right_foot_force = np.array(contact_forces)[:,1]\n",
    "# right_foot_force_x = right_foot_force[:,0]\n",
    "# right_foot_force_y = right_foot_force[:,1]\n",
    "# right_foot_force_z = right_foot_force[:,2]\n",
    "# right_foot_force_Rx = right_foot_force[:,3]\n",
    "# right_foot_force_Ry = right_foot_force[:,4]\n",
    "# right_foot_force_Rz = right_foot_force[:,5]\n",
    "# time = np.arange(0, len(left_foot_force_x), 1)\n",
    "# fig, axs = plt.subplots(2, 3)\n",
    "# fig.set_figwidth(10)\n",
    "\n",
    "# axs[0, 0].plot(time, left_foot_force_x, 'tab:purple')\n",
    "# axs[0, 0].plot(time, right_foot_force_x, 'tab:red')\n",
    "# axs[0, 0].set_title('foot_force_x')\n",
    "\n",
    "# axs[0, 1].plot(time, left_foot_force_y, 'tab:purple')\n",
    "# axs[0, 1].plot(time, right_foot_force_y, 'tab:red')\n",
    "# axs[0, 1].set_title('foot_force_y')\n",
    "\n",
    "# axs[0, 2].plot(time, left_foot_force_z, 'tab:purple')\n",
    "# axs[0, 2].plot(time, right_foot_force_z, 'tab:red')\n",
    "# axs[0, 2].set_title('foot_force_z')\n",
    "\n",
    "# axs[1, 0].plot(time, left_foot_force_Rx, 'tab:purple')\n",
    "# axs[1, 0].plot(time, right_foot_force_Rx, 'tab:red')\n",
    "# axs[1, 0].set_title('foot_force_Rx')\n",
    "\n",
    "# axs[1, 1].plot(time, left_foot_force_Ry, 'tab:purple')\n",
    "# axs[1, 1].plot(time, right_foot_force_Ry, 'tab:red')\n",
    "# axs[1, 1].set_title('foot_force_Ry')\n",
    "\n",
    "# axs[1, 2].plot(time, left_foot_force_Rz, 'tab:purple')\n",
    "# axs[1, 2].plot(time, right_foot_force_Rz, 'tab:red')\n",
    "# axs[1, 2].set_title('foot_force_Rz')\n",
    "\n",
    "# fig.tight_layout()"
   ]
  },
  {
   "cell_type": "code",
   "execution_count": null,
   "metadata": {},
   "outputs": [],
   "source": [
    "# reference"
   ]
  },
  {
   "cell_type": "code",
   "execution_count": null,
   "metadata": {},
   "outputs": [],
   "source": [
    "# import matplotlib.pyplot as plt\n",
    "\n",
    "# time = np.arange(0, len(reference), 1)\n",
    "\n",
    "# # plt.plot(mpc_reference[:1], label=[\"mpc_ref_x\", \"mpc_ref_y\", \"mpc_ref_z\"])\n",
    "# plt.plot(reference, label=\"reference\")\n",
    "# plt.legend()\n",
    "# plt.show()"
   ]
  },
  {
   "cell_type": "code",
   "execution_count": null,
   "metadata": {},
   "outputs": [],
   "source": []
  },
  {
   "cell_type": "code",
   "execution_count": null,
   "metadata": {},
   "outputs": [],
   "source": []
  }
 ],
 "metadata": {
  "kernelspec": {
   "display_name": "comodo_venv",
   "language": "python",
   "name": "python3"
  },
  "language_info": {
   "codemirror_mode": {
    "name": "ipython",
    "version": 3
   },
   "file_extension": ".py",
   "mimetype": "text/x-python",
   "name": "python",
   "nbconvert_exporter": "python",
   "pygments_lexer": "ipython3",
   "version": "3.10.13"
  }
 },
 "nbformat": 4,
 "nbformat_minor": 2
}
